{
 "cells": [
  {
   "cell_type": "markdown",
   "metadata": {},
   "source": [
    "# SPARK assignment\n",
    "\n",
    "### Patricia Llull Sperandio\n",
    "\n",
    "The dataset is related to crime in Chicago for a specific time frame (2005 to 2007).\n",
    "\n",
    "The analysis follows this structure:\n",
    "1. PySpark environment setup\n",
    "2. Data source and Spark data abstraction setup\n",
    "3. Data set metadata analysis\n",
    "    1. Schema and size of dataframe\n",
    "    2. Random sample(s)\n",
    "    3. Data entities, metrics, dimensions\n",
    "    4. Column categorisation (organisation of fields)\n",
    "        1. Changes in Date Column (split date)\n",
    "        2. Getting day of week and hour (24h)\n",
    "        3. Location columns: data types and renaming\n",
    "4. Basic profiling of column groups\n",
    "    1. **Location related** profiling\n",
    "    2. **Time-related** profiling\n",
    "    3. **Crime-specific** profiling\n",
    "    \n",
    "5. Insights\n",
    "    1. Top 5's\n",
    "    2. Ratio of number of crimes & frequency of crime type by day time category\n",
    "    3. Ratio of crimes types: week vs. weekend\n",
    "    4. Safety in the districts"
   ]
  },
  {
   "cell_type": "markdown",
   "metadata": {},
   "source": [
    "## 1. PySpark environment setup"
   ]
  },
  {
   "cell_type": "code",
   "execution_count": 1,
   "metadata": {},
   "outputs": [
    {
     "name": "stdout",
     "output_type": "stream",
     "text": [
      "For the analysis I will be using SparkContext version 2.4.4 and Spark will be using version 3.7 of Python.\n"
     ]
    }
   ],
   "source": [
    "#ENVIRONMENT\n",
    "import findspark\n",
    "findspark.init()\n",
    "\n",
    "from pyspark.context import SparkContext\n",
    "from pyspark.sql.session import SparkSession\n",
    "\n",
    "sc = SparkContext.getOrCreate()\n",
    "spark = SparkSession(sc)\n",
    "\n",
    "sc.version\n",
    "sc.pythonVer\n",
    "sc.master\n",
    "print(f\"For the analysis I will be using SparkContext version {sc.version} and Spark will be using version {sc.pythonVer} of Python.\")"
   ]
  },
  {
   "cell_type": "markdown",
   "metadata": {},
   "source": [
    "## 2. Data source and Spark data abstraction setup (DataFrame)\n",
    "\n",
    "Data source: Kaggle.\n",
    "This is the <a href=\"https://www.kaggle.com/currie32/crimes-in-chicago\" title=\"Kaggle\"> link</a> to the dataset.\n",
    "\n",
    "Spark abstraction: convert the csv into a dataframe i.e create a representation of our data using Spark structures. I use the option infer the schema: Spark will determine data types in the columns; option header true which means the first row is column description/metadata; and csv because we are reading a csv file.\n",
    "\n",
    "\n"
   ]
  },
  {
   "cell_type": "code",
   "execution_count": 2,
   "metadata": {},
   "outputs": [],
   "source": [
    "#LOAD DATA\n",
    "chicagoDF = spark.read\\\n",
    "                        .option(\"inferSchema\", \"true\")\\\n",
    "                        .option(\"header\",\"true\")\\\n",
    "                        .csv(\"Chicago_Crimes_2005_to_2007.csv\") "
   ]
  },
  {
   "cell_type": "markdown",
   "metadata": {},
   "source": [
    "## 3. Dataset and metadata analysis\n",
    "> ### A. Display schema and size of dataframe"
   ]
  },
  {
   "cell_type": "code",
   "execution_count": 3,
   "metadata": {},
   "outputs": [
    {
     "data": {
      "text/markdown": [
       "#### Column data types"
      ],
      "text/plain": [
       "<IPython.core.display.Markdown object>"
      ]
     },
     "metadata": {},
     "output_type": "display_data"
    },
    {
     "data": {
      "text/markdown": [
       "Each column has a specific data type:"
      ],
      "text/plain": [
       "<IPython.core.display.Markdown object>"
      ]
     },
     "metadata": {},
     "output_type": "display_data"
    },
    {
     "name": "stdout",
     "output_type": "stream",
     "text": [
      "root\n",
      " |-- _c0: integer (nullable = true)\n",
      " |-- ID: integer (nullable = true)\n",
      " |-- Case Number: string (nullable = true)\n",
      " |-- Date: string (nullable = true)\n",
      " |-- Block: string (nullable = true)\n",
      " |-- IUCR: string (nullable = true)\n",
      " |-- Primary Type: string (nullable = true)\n",
      " |-- Description: string (nullable = true)\n",
      " |-- Location Description: string (nullable = true)\n",
      " |-- Arrest: boolean (nullable = true)\n",
      " |-- Domestic: boolean (nullable = true)\n",
      " |-- Beat: integer (nullable = true)\n",
      " |-- District: double (nullable = true)\n",
      " |-- Ward: double (nullable = true)\n",
      " |-- Community Area: double (nullable = true)\n",
      " |-- FBI Code: string (nullable = true)\n",
      " |-- X Coordinate: double (nullable = true)\n",
      " |-- Y Coordinate: double (nullable = true)\n",
      " |-- Year: integer (nullable = true)\n",
      " |-- Updated On: string (nullable = true)\n",
      " |-- Latitude: double (nullable = true)\n",
      " |-- Longitude: double (nullable = true)\n",
      " |-- Location: string (nullable = true)\n",
      "\n"
     ]
    },
    {
     "data": {
      "text/markdown": [
       "#### Dimensions of the data frame"
      ],
      "text/plain": [
       "<IPython.core.display.Markdown object>"
      ]
     },
     "metadata": {},
     "output_type": "display_data"
    },
    {
     "data": {
      "text/markdown": [
       "This dataframe has **1872345 rows**."
      ],
      "text/plain": [
       "<IPython.core.display.Markdown object>"
      ]
     },
     "metadata": {},
     "output_type": "display_data"
    },
    {
     "data": {
      "text/markdown": [
       "This dataframe has **23 columns**."
      ],
      "text/plain": [
       "<IPython.core.display.Markdown object>"
      ]
     },
     "metadata": {},
     "output_type": "display_data"
    },
    {
     "data": {
      "text/markdown": [
       "This class of object is **<class 'pyspark.sql.dataframe.DataFrame'>** "
      ],
      "text/plain": [
       "<IPython.core.display.Markdown object>"
      ]
     },
     "metadata": {},
     "output_type": "display_data"
    },
    {
     "data": {
      "text/markdown": [
       "Spark infers the schema, and it has recognised some numeric columns straight away. However, it might be necessary to make some changes in order to perform calculations. For example, the date column willbe split in order to generate insights."
      ],
      "text/plain": [
       "<IPython.core.display.Markdown object>"
      ]
     },
     "metadata": {},
     "output_type": "display_data"
    }
   ],
   "source": [
    "#DATA FRAME STRUCTURE - rows and columns & object type\n",
    "from IPython.display import display, Markdown\n",
    "display(Markdown(\"#### Column data types\"))\n",
    "\n",
    "display(Markdown(\"Each column has a specific data type:\"))\n",
    "chicagoDF.printSchema()\n",
    "\n",
    "display(Markdown(\"#### Dimensions of the data frame\"))\n",
    "display(Markdown(\"This dataframe has **%d rows**.\" % chicagoDF.count()))\n",
    "a = len(chicagoDF.columns)\n",
    "display(Markdown(f\"This dataframe has **{a} columns**.\"))\n",
    "b = type(chicagoDF)\n",
    "display(Markdown(f\"This class of object is **{b}** \"))\n",
    "\n",
    "display(Markdown(\"Spark infers the schema, and it has recognised some numeric columns straight away. However, \\\n",
    "it might be necessary to make some changes in order to perform calculations. For example, the date column will\\\n",
    "be split in order to generate insights.\"))"
   ]
  },
  {
   "cell_type": "markdown",
   "metadata": {},
   "source": [
    "#### Columns Description (<a href=\"https://www.kaggle.com/currie32/crimes-in-chicago\" title=\"Kaggle\">source</a>) <br>  \n",
    "\n",
    "1. **ID** - Unique identifier for the record.\n",
    "2. **Case Number** - The Chicago Police Department RD Number (Records Division Number), which is unique to the incident.\n",
    "3. **Date** - Date when the incident occurred. this is sometimes a best estimate.\n",
    "4. **Block** - The partially redacted address where the incident occurred, placing it on the same block as the actual address.\n",
    "5. **IUCR** - The Illinois Unifrom Crime Reporting code. This is directly linked to the Primary Type and Description. See the list of IUCR codes at https://data.cityofchicago.org/d/c7ck-438e.\n",
    "6. **Primary Type** - The primary description of the IUCR code.\n",
    "7. **Description** - The secondary description of the IUCR code, a subcategory of the primary description.\n",
    "8. **Location Description** - Description of the location where the incident occurred.\n",
    "\n",
    "9. **Arrest** - Indicates whether an arrest was made.\n",
    "\n",
    "10. **Domestic** - Indicates whether the incident was domestic-related as defined by the Illinois Domestic Violence Act.\n",
    "\n",
    "11. **Beat** - Indicates the beat where the incident occurred. A beat is the smallest police geographic area – each beat has a dedicated police beat car. Three to five beats make up a police sector, and three sectors make up a police district. The Chicago Police Department has 22 police districts. See the beats at https://data.cityofchicago.org/d/aerh-rz74.\n",
    "\n",
    "12. **District** - Indicates the police district where the incident occurred. See the districts at https://data.cityofchicago.org/d/fthy-xz3r.\n",
    "\n",
    "13. **Ward** - The ward (City Council district) where the incident occurred. See the wards at https://data.cityofchicago.org/d/sp34-6z76.\n",
    "\n",
    "14. **Community Area** - Indicates the community area where the incident occurred. Chicago has 77 community areas. See the community areas at https://data.cityofchicago.org/d/cauq-8yn6.\n",
    "\n",
    "15. **FBI Code** - Indicates the crime classification as outlined in the FBI's National Incident-Based Reporting System (NIBRS). See the Chicago Police Department listing of these classifications at http://gis.chicagopolice.org/clearmap_crime_sums/crime_types.html.\n",
    "\n",
    "16. **X Coordinate** - The x coordinate of the location where the incident occurred in State Plane Illinois East NAD 1983 projection. This location is shifted from the actual location for partial redaction but falls on the same block.\n",
    "\n",
    "17. **Y Coordinate** - The y coordinate of the location where the incident occurred in State Plane Illinois East NAD 1983 projection. This location is shifted from the actual location for partial redaction but falls on the same block.\n",
    "\n",
    "18. **Year** - Year the incident occurred.\n",
    "\n",
    "19. **Updated On** - Date and time the record was last updated.\n",
    "\n",
    "20. **Latitude** - The latitude of the location where the incident occurred. This location is shifted from the actual location for partial redaction but falls on the same block.\n",
    "\n",
    "21. **Longitude** - The longitude of the location where the incident occurred. This location is shifted from the actual location for partial redaction but falls on the same block.\n",
    "\n",
    "22. **Location** - The location where the incident occurred in a format that allows for creation of maps and other geographic operations on this data portal. This location is shifted from the actual location for partial redaction but falls on the same block.\n",
    "\n"
   ]
  },
  {
   "cell_type": "code",
   "execution_count": 4,
   "metadata": {},
   "outputs": [
    {
     "data": {
      "text/markdown": [
       ">### B.Sample the dataset"
      ],
      "text/plain": [
       "<IPython.core.display.Markdown object>"
      ]
     },
     "metadata": {},
     "output_type": "display_data"
    },
    {
     "data": {
      "text/markdown": [
       "**Example of a random sample** usning 20% of the dataset. Here showing 3 rows of that sample:"
      ],
      "text/plain": [
       "<IPython.core.display.Markdown object>"
      ]
     },
     "metadata": {},
     "output_type": "display_data"
    },
    {
     "name": "stdout",
     "output_type": "stream",
     "text": [
      "[Row(_c0=8, ID=4673633, Case Number='HM275105', Date='04/05/2006 03:00:00 PM', Block='067XX S ROCKWELL ST', IUCR='0820', Primary Type='THEFT', Description='$500 AND UNDER', Location Description='STREET', Arrest=False, Domestic=False, Beat=832, District=8.0, Ward=15.0, Community Area=66.0, FBI Code='06', X Coordinate=1160205.0, Y Coordinate=1859776.0, Year=2006, Updated On='04/15/2016 08:55:02 AM', Latitude=41.770925978, Longitude=-87.688304107, Location='(41.770925978, -87.688304107)'), Row(_c0=14, ID=4673642, Case Number='HM202299', Date='02/26/2006 02:47:21 PM', Block='002XX S LEAMINGTON AVE', IUCR='1811', Primary Type='NARCOTICS', Description='POSS: CANNABIS 30GMS OR LESS', Location Description='SIDEWALK', Arrest=True, Domestic=False, Beat=1533, District=15.0, Ward=28.0, Community Area=25.0, FBI Code='18', X Coordinate=1142168.0, Y Coordinate=1898610.0, Year=2006, Updated On='04/15/2016 08:55:02 AM', Latitude=41.87784456, Longitude=-87.753461293, Location='(41.87784456, -87.753461293)'), Row(_c0=19, ID=4673648, Case Number='HM273363', Date='04/05/2006 01:30:00 PM', Block='046XX N MILWAUKEE AVE', IUCR='1330', Primary Type='CRIMINAL TRESPASS', Description='TO LAND', Location Description='PARK PROPERTY', Arrest=True, Domestic=False, Beat=1623, District=16.0, Ward=45.0, Community Area=15.0, FBI Code='26', X Coordinate=1140652.0, Y Coordinate=1930355.0, Year=2006, Updated On='04/15/2016 08:55:02 AM', Latitude=41.96498423, Longitude=-87.758246066, Location='(41.96498423, -87.758246066)')]\n"
     ]
    }
   ],
   "source": [
    "from IPython.display import display, Markdown\n",
    "\n",
    "display(Markdown(\">### B.Sample the dataset\"))\n",
    "\n",
    "display(Markdown(\"**Example of a random sample** usning 20% of the dataset. Here showing 3 rows of that sample:\"))\n",
    "\n",
    "print(chicagoDF.sample(False, 0.2).take(3))"
   ]
  },
  {
   "cell_type": "code",
   "execution_count": 5,
   "metadata": {
    "scrolled": false
   },
   "outputs": [
    {
     "data": {
      "text/markdown": [
       "A sample of dataframe ChicagoDF will be used to perform operations. It will be cached to make operations faster later on.  I use a sample because the dataset contains over a million rows.<br>        <br>The sample  contains 10% of the data. Sampling method: without replacement. <br>."
      ],
      "text/plain": [
       "<IPython.core.display.Markdown object>"
      ]
     },
     "metadata": {},
     "output_type": "display_data"
    },
    {
     "data": {
      "text/plain": [
       "186916"
      ]
     },
     "execution_count": 5,
     "metadata": {},
     "output_type": "execute_result"
    }
   ],
   "source": [
    "#SAMPLE FOR the analyis (10% of the data)  ; run only once otherwise it takes a sample of the sample\n",
    "\n",
    "display(Markdown(\"A sample of dataframe ChicagoDF will be used to perform operations. It will be cached \\\n",
    "to make operations faster later on.  I use a sample because the dataset contains over a million rows.<br>\\\n",
    "        <br>The sample  contains 10% of the data. Sampling method: without replacement. <br>.\"))\n",
    "chicagoDF = chicagoDF.sample(False, 0.1)\n",
    "chicagoDF.count() #make sure the sample is +100K rows (should be the case as I take 10% of +1M)"
   ]
  },
  {
   "cell_type": "code",
   "execution_count": 6,
   "metadata": {},
   "outputs": [
    {
     "data": {
      "text/plain": [
       "DataFrame[_c0: int, ID: int, Case Number: string, Date: string, Block: string, IUCR: string, Primary Type: string, Description: string, Location Description: string, Arrest: boolean, Domestic: boolean, Beat: int, District: double, Ward: double, Community Area: double, FBI Code: string, X Coordinate: double, Y Coordinate: double, Year: int, Updated On: string, Latitude: double, Longitude: double, Location: string]"
      ]
     },
     "execution_count": 6,
     "metadata": {},
     "output_type": "execute_result"
    }
   ],
   "source": [
    "chicagoDF.cache() #optimise the process (make it faster)"
   ]
  },
  {
   "cell_type": "markdown",
   "metadata": {},
   "source": [
    ">### C. Data entities, metrics and dimensions\n",
    "\n",
    "The dataframe contains the following elements\n",
    "* **Entities**: Crime, Location, Date <br>\n",
    "* **Metrics**: Time of the crime, the violence of the crime through several attributes such as primary type <br>\n",
    "* **Dimensions**: Day, Description, District, Block, ..."
   ]
  },
  {
   "cell_type": "code",
   "execution_count": 7,
   "metadata": {},
   "outputs": [
    {
     "data": {
      "text/markdown": [
       ">#### 1. Date column: splitting to get Month, DayOfMonth, Hour, AM_PM"
      ],
      "text/plain": [
       "<IPython.core.display.Markdown object>"
      ]
     },
     "metadata": {},
     "output_type": "display_data"
    },
    {
     "data": {
      "text/markdown": [
       "I wil split the date column to generate insights in the analysis later on. I cast Day and Month as integers."
      ],
      "text/plain": [
       "<IPython.core.display.Markdown object>"
      ]
     },
     "metadata": {},
     "output_type": "display_data"
    },
    {
     "data": {
      "text/markdown": [
       "This is the resulting schema for the dataframe:"
      ],
      "text/plain": [
       "<IPython.core.display.Markdown object>"
      ]
     },
     "metadata": {},
     "output_type": "display_data"
    },
    {
     "data": {
      "text/markdown": [
       "Check the resulting structure of time-related columns"
      ],
      "text/plain": [
       "<IPython.core.display.Markdown object>"
      ]
     },
     "metadata": {},
     "output_type": "display_data"
    },
    {
     "name": "stdout",
     "output_type": "stream",
     "text": [
      "+--------------------+---------+----------+-----+----+-----+\n",
      "|                Date|TimeOfDay|DayOfMonth|Month|Hour|AM_PM|\n",
      "+--------------------+---------+----------+-----+----+-----+\n",
      "|03/31/2006 08:20:...| 08:20:00|        31|    3|   8|   AM|\n",
      "|04/05/2006 05:00:...| 05:00:00|         5|    4|   5|   PM|\n",
      "|04/06/2006 01:00:...| 01:00:00|         6|    4|   1|   AM|\n",
      "|04/02/2006 10:00:...| 10:00:00|         2|    4|  10|   AM|\n",
      "|04/01/2006 12:00:...| 12:00:00|         1|    4|  12|   AM|\n",
      "|04/03/2006 09:00:...| 09:00:00|         3|    4|   9|   PM|\n",
      "|03/01/2006 10:09:...| 10:09:19|         1|    3|  10|   PM|\n",
      "|02/16/2006 08:38:...| 08:38:53|        16|    2|   8|   PM|\n",
      "|04/03/2006 05:00:...| 05:00:00|         3|    4|   5|   PM|\n",
      "|03/01/2006 02:30:...| 02:30:00|         1|    3|   2|   PM|\n",
      "+--------------------+---------+----------+-----+----+-----+\n",
      "\n"
     ]
    }
   ],
   "source": [
    "#Entities, dimensions and metrics\n",
    "\n",
    "from IPython.display import display, Markdown\n",
    "from pyspark.sql.functions import when, count, col, countDistinct, desc, first, lit, split, dayofweek\n",
    "from pyspark.sql.types import IntegerType\n",
    "\n",
    "#SPLIT DATE, ADD DayOfWeek, AM_PM\n",
    "display(Markdown(\">#### 1. Date column: splitting to get Month, DayOfMonth, Hour, AM_PM\"))\n",
    "\n",
    "display(Markdown(\"I wil split the date column to generate insights in the analysis later on.\\\n",
    " I cast Day and Month as integers.\"))\n",
    "\n",
    "#time of day stays an integer because of its format.\n",
    "display(Markdown(\"This is the resulting schema for the dataframe:\"))\n",
    "chicagoDF= chicagoDF.withColumn(\"Month\", split(col(\"Date\"), \"/\").getItem(0).cast(IntegerType()))\\\n",
    ".withColumn(\"DayOfMonth\", split(col(\"Date\"), \"/\").getItem(1).cast(IntegerType()))\\\n",
    ".withColumn(\"TimeOfDay\", split(col(\"Date\"), \" \").getItem(1))\\\n",
    ".withColumn(\"Hour\", split(col(\"TimeOfDay\"), \":\").getItem(0).cast(IntegerType()))\\\n",
    ".withColumn(\"AM_PM\", split(col(\"Date\"),\" \").getItem(2))\n",
    "\n",
    "#new SCHEMA with data split and hours too\n",
    "#chicagoDF.printSchema()\n",
    "\n",
    "\n",
    "#Check the time-related columns\n",
    "display(Markdown(\"Check the resulting structure of time-related columns\"))\n",
    "chicagoDF.select(\"Date\",\"TimeOfDay\",\"DayOfMonth\", \"Month\",\"Hour\", \"AM_PM\").limit(10).show()"
   ]
  },
  {
   "cell_type": "code",
   "execution_count": 8,
   "metadata": {
    "scrolled": false
   },
   "outputs": [
    {
     "data": {
      "text/markdown": [
       ">#### 2. Date format transformations: getting DayOfWeek and exact hour of the day (24h format)"
      ],
      "text/plain": [
       "<IPython.core.display.Markdown object>"
      ]
     },
     "metadata": {},
     "output_type": "display_data"
    },
    {
     "name": "stdout",
     "output_type": "stream",
     "text": [
      "+--------------------+---------+-------------+----+-----+----------+\n",
      "|                Date|DayOfWeek|DayOfWeek_str|Hour|AM_PM|hour_am_pm|\n",
      "+--------------------+---------+-------------+----+-----+----------+\n",
      "|03/31/2006 08:20:...|        5|          Fri|   8|   AM|         8|\n",
      "|04/05/2006 05:00:...|        3|          Wed|   5|   PM|        17|\n",
      "|04/06/2006 01:00:...|        4|          Thu|   1|   AM|         1|\n",
      "|04/02/2006 10:00:...|        7|          Sun|  10|   AM|        10|\n",
      "|04/01/2006 12:00:...|        6|          Sat|  12|   AM|        24|\n",
      "+--------------------+---------+-------------+----+-----+----------+\n",
      "\n"
     ]
    }
   ],
   "source": [
    "#ADDING DAY OF WEEK\n",
    "\n",
    "display(Markdown(\">#### 2. Date format transformations: getting DayOfWeek and exact hour of the day (24h format)\"))\n",
    "\n",
    "\n",
    "#import functions\n",
    "from pyspark.sql.functions import unix_timestamp, from_unixtime, year, month, dayofmonth, dayofweek, date_format\n",
    "from pyspark.sql.functions import concat, lit\n",
    "import pyspark.sql.functions as F \n",
    "\n",
    "#Add columns for: NEW DATE FORMAT - DAY OF WEEK -  hour_am_pm\n",
    "\n",
    "\n",
    "chicagoDF= chicagoDF.withColumn(\"Date_new\",from_unixtime(unix_timestamp('Date', 'MM/dd/yyy')))\\\n",
    ".withColumn('DayOfWeek', date_format(col('Date_new'), 'u').cast(IntegerType()))\\\n",
    ".withColumn('DayOfWeek_str', date_format(col('Date_new'), 'E'))\\\n",
    ".withColumn('hour_am_pm', concat(col('Hour'),lit(' '), col('AM_PM')))\\\n",
    ".withColumn(\"hour_am_pm\", F.when(F.col(\"hour_am_pm\") == '1 PM', 13)\\\n",
    "                                                           .when(F.col(\"hour_am_pm\") == '2 PM', 14)\\\n",
    "                                                           .when(F.col(\"hour_am_pm\") == '3 PM', 15)\\\n",
    "                                                           .when(F.col(\"hour_am_pm\") == '4 PM', 16)\\\n",
    "                                                           .when(F.col(\"hour_am_pm\") == '5 PM', 17)\\\n",
    "                                                           .when(F.col(\"hour_am_pm\") == '6 PM', 18)\\\n",
    "                                                           .when(F.col(\"hour_am_pm\") == '7 PM', 19)\\\n",
    "                                                           .when(F.col(\"hour_am_pm\") == '8 PM', 20)\\\n",
    "                                                           .when(F.col(\"hour_am_pm\") == '9 PM',  21)\\\n",
    "                                                           .when(F.col(\"hour_am_pm\") == '10 PM', 22)\\\n",
    "                                                           .when(F.col(\"hour_am_pm\") == '11 PM', 23)\\\n",
    "                                                           .when(F.col(\"hour_am_pm\") == '12 PM', 12)\\\n",
    "                                                           .when(F.col(\"hour_am_pm\") == '1 AM', 1)\\\n",
    "                                                           .when(F.col(\"hour_am_pm\") == '2 AM', 2)\\\n",
    "                                                           .when(F.col(\"hour_am_pm\") == '3 AM', 3)\\\n",
    "                                                           .when(F.col(\"hour_am_pm\") == '4 AM', 4)\\\n",
    "                                                           .when(F.col(\"hour_am_pm\") == '5 AM', 5)\\\n",
    "                                                           .when(F.col(\"hour_am_pm\") == '6 AM', 6)\\\n",
    "                                                           .when(F.col(\"hour_am_pm\") == '7 AM', 7)\\\n",
    "                                                           .when(F.col(\"hour_am_pm\") == '8 AM', 8)\\\n",
    "                                                           .when(F.col(\"hour_am_pm\") == '9 AM', 9)\\\n",
    "                                                           .when(F.col(\"hour_am_pm\") == '10 AM', 10)\\\n",
    "                                                           .when(F.col(\"hour_am_pm\") == '11 AM', 11)\\\n",
    "                                                           .when(F.col(\"hour_am_pm\") == '12 AM', 24))\\\n",
    "\n",
    "                                                            \n",
    "                                                          \n",
    "chicagoDF.select(\"Date\",\"DayOfWeek\",\"DayOfWeek_str\", \"Hour\", \"AM_PM\", \"hour_am_pm\").limit(5).show()"
   ]
  },
  {
   "cell_type": "code",
   "execution_count": 9,
   "metadata": {},
   "outputs": [
    {
     "data": {
      "text/markdown": [
       ">#### 3. Location columns: data type changes"
      ],
      "text/plain": [
       "<IPython.core.display.Markdown object>"
      ]
     },
     "metadata": {},
     "output_type": "display_data"
    }
   ],
   "source": [
    "#CHANGING DATA TYPES of locations\n",
    "display(Markdown(\">#### 3. Location columns: data type changes\"))\n",
    "\n",
    "#Change data type for District, Ward, Community Area (and rename Community Area to Community; and Location Description to LocationDescription)\n",
    "from pyspark.sql.types import IntegerType, StringType\n",
    "from pyspark.sql.functions import when, count, col, countDistinct, desc, first, lit, split\n",
    "\n",
    "chicagoDF = chicagoDF.withColumn(\"District\",col(\"District\").cast(IntegerType()))\\\n",
    ".withColumn(\"Ward\",col(\"Ward\").cast(IntegerType()))\\\n",
    ".withColumn(\"Community Area\", col(\"Community Area\").cast(IntegerType()))\\\n",
    ".withColumnRenamed(\"Community Area\", \"Community\")\\\n",
    ".withColumnRenamed(\"Location Description\", \"LocationDescription\")\n"
   ]
  },
  {
   "cell_type": "code",
   "execution_count": 10,
   "metadata": {
    "scrolled": false
   },
   "outputs": [
    {
     "data": {
      "text/markdown": [
       "This is the new schema after making the changes in date columns, date format and locations columns: adding date related columns, changing some data types and column names"
      ],
      "text/plain": [
       "<IPython.core.display.Markdown object>"
      ]
     },
     "metadata": {},
     "output_type": "display_data"
    },
    {
     "name": "stdout",
     "output_type": "stream",
     "text": [
      "root\n",
      " |-- _c0: integer (nullable = true)\n",
      " |-- ID: integer (nullable = true)\n",
      " |-- Case Number: string (nullable = true)\n",
      " |-- Date: string (nullable = true)\n",
      " |-- Block: string (nullable = true)\n",
      " |-- IUCR: string (nullable = true)\n",
      " |-- Primary Type: string (nullable = true)\n",
      " |-- Description: string (nullable = true)\n",
      " |-- LocationDescription: string (nullable = true)\n",
      " |-- Arrest: boolean (nullable = true)\n",
      " |-- Domestic: boolean (nullable = true)\n",
      " |-- Beat: integer (nullable = true)\n",
      " |-- District: integer (nullable = true)\n",
      " |-- Ward: integer (nullable = true)\n",
      " |-- Community: integer (nullable = true)\n",
      " |-- FBI Code: string (nullable = true)\n",
      " |-- X Coordinate: double (nullable = true)\n",
      " |-- Y Coordinate: double (nullable = true)\n",
      " |-- Year: integer (nullable = true)\n",
      " |-- Updated On: string (nullable = true)\n",
      " |-- Latitude: double (nullable = true)\n",
      " |-- Longitude: double (nullable = true)\n",
      " |-- Location: string (nullable = true)\n",
      " |-- Month: integer (nullable = true)\n",
      " |-- DayOfMonth: integer (nullable = true)\n",
      " |-- TimeOfDay: string (nullable = true)\n",
      " |-- Hour: integer (nullable = true)\n",
      " |-- AM_PM: string (nullable = true)\n",
      " |-- Date_new: string (nullable = true)\n",
      " |-- DayOfWeek: integer (nullable = true)\n",
      " |-- DayOfWeek_str: string (nullable = true)\n",
      " |-- hour_am_pm: integer (nullable = true)\n",
      "\n"
     ]
    }
   ],
   "source": [
    "#print the new schema and check the data type of day of week is integer\n",
    "display(Markdown(\"This is the new schema after making the changes in date columns, date format and locations columns: adding date related columns, changing some data types and column names\"))\n",
    "chicagoDF.printSchema()"
   ]
  },
  {
   "cell_type": "markdown",
   "metadata": {},
   "source": [
    "> ### D. Column Categorisation\n",
    "\n",
    "Potential groups of columns:\n",
    "- **Identification-related**: *ID, Case number, FBI code* \n",
    "- **Time-related**: *Date, Year, Month, DayOfMonth, DayOfWeek (string), DayOfWeek(integer), TimeOfDay, Hour, Hour_am_pm*\n",
    "- **Location-related**:*Location description, Beat, District, Ward, Community Area, X coordinate, Y coordinate, Latitude, Longitude, Location*\n",
    "- **Type of offense**: *IUCR, Primary Type, Description, Arrest, Domestic*\n",
    "\n",
    "\n",
    "## 4. Basic profiling of column groups\n",
    "\n",
    "Deep-dive into the column categories related to time, location and type of offense."
   ]
  },
  {
   "cell_type": "code",
   "execution_count": 11,
   "metadata": {},
   "outputs": [
    {
     "data": {
      "text/markdown": [
       ">### A. Location-related columns profiling"
      ],
      "text/plain": [
       "<IPython.core.display.Markdown object>"
      ]
     },
     "metadata": {},
     "output_type": "display_data"
    },
    {
     "data": {
      "text/markdown": [
       "Columns of interest: Block, LocationDescription, Beat, District, Ward, Community, X Coor, Y coord, Lon, Lat, Location"
      ],
      "text/plain": [
       "<IPython.core.display.Markdown object>"
      ]
     },
     "metadata": {},
     "output_type": "display_data"
    },
    {
     "data": {
      "text/markdown": [
       "Location related columns are important for crime data: they give insights as to where crimes are committed and how often.i.e. which districts / communities are safer; which are unsafe."
      ],
      "text/plain": [
       "<IPython.core.display.Markdown object>"
      ]
     },
     "metadata": {},
     "output_type": "display_data"
    },
    {
     "data": {
      "text/markdown": [
       "Check for null in location-related columns:"
      ],
      "text/plain": [
       "<IPython.core.display.Markdown object>"
      ]
     },
     "metadata": {},
     "output_type": "display_data"
    },
    {
     "name": "stdout",
     "output_type": "stream",
     "text": [
      "+----+----+---------+\n",
      "|Beat|Ward|Community|\n",
      "+----+----+---------+\n",
      "|   0|   1|       38|\n",
      "+----+----+---------+\n",
      "\n",
      "+-----+--------+-------------------+--------+\n",
      "|Block|District|LocationDescription|Location|\n",
      "+-----+--------+-------------------+--------+\n",
      "|    0|       0|                  4|     918|\n",
      "+-----+--------+-------------------+--------+\n",
      "\n",
      "+---------+--------+------------+------------+\n",
      "|Longitude|Latitude|X Coordinate|Y Coordinate|\n",
      "+---------+--------+------------+------------+\n",
      "|      918|     918|         918|         918|\n",
      "+---------+--------+------------+------------+\n",
      "\n"
     ]
    },
    {
     "data": {
      "text/markdown": [
       "Because the dataset contains over a million values, I will remove the rows that contain null values."
      ],
      "text/plain": [
       "<IPython.core.display.Markdown object>"
      ]
     },
     "metadata": {},
     "output_type": "display_data"
    },
    {
     "data": {
      "text/markdown": [
       "In the new dataframe cleanchicagoDF, check that there are no more missing values in location columns:"
      ],
      "text/plain": [
       "<IPython.core.display.Markdown object>"
      ]
     },
     "metadata": {},
     "output_type": "display_data"
    },
    {
     "name": "stdout",
     "output_type": "stream",
     "text": [
      "+----+----+---------+\n",
      "|Beat|Ward|Community|\n",
      "+----+----+---------+\n",
      "|   0|   0|        0|\n",
      "+----+----+---------+\n",
      "\n",
      "+-----+--------+-------------------+--------+\n",
      "|Block|District|LocationDescription|Location|\n",
      "+-----+--------+-------------------+--------+\n",
      "|    0|       0|                  0|       0|\n",
      "+-----+--------+-------------------+--------+\n",
      "\n",
      "+---------+--------+------------+------------+\n",
      "|Longitude|Latitude|X Coordinate|Y coordinate|\n",
      "+---------+--------+------------+------------+\n",
      "|        0|       0|           0|           0|\n",
      "+---------+--------+------------+------------+\n",
      "\n"
     ]
    }
   ],
   "source": [
    "display(Markdown(\">### A. Location-related columns profiling\"))\n",
    "display(Markdown(\"Columns of interest: Block, LocationDescription, Beat, District, Ward, Community, X Coor, Y coord, Lon, Lat, Location\"))\n",
    "display(Markdown(\"Location related columns are important for crime data: they give insights as to where crimes are committed and how often.\\\n",
    "i.e. which districts / communities are safer; which are unsafe.\"))\n",
    "\n",
    "#1. CHECK NA's : do it separately for strings vs. integer columns\n",
    "#Some location idenfiers have 9K missing values which is still little compared to 1M dataset.\n",
    "import pyspark.sql.functions as F\n",
    "from pyspark.sql.functions import when, count, col, countDistinct, desc, first, lit, split\n",
    "from pyspark.sql.types import IntegerType\n",
    "\n",
    "display(Markdown(\"Check for null in location-related columns:\"))\n",
    "chicagoDF.select([count(when(col(c).isNull(), c)).alias(c) for c in [\"Beat\",\"Ward\",\"Community\"]]).show()\n",
    "\n",
    "chicagoDF.select([count(when(col(c).isNull(), c)).alias(c) for c in [\"Block\",\"District\",\"LocationDescription\", \"Location\"]]).show()\n",
    "\n",
    "chicagoDF.select([count(when(col(c).isNull(), c)).alias(c) for c in [\"Longitude\",\"Latitude\",\"X Coordinate\",\"Y Coordinate\"]]).show()\n",
    "\n",
    "display(Markdown(\"Because the dataset contains over a million values, I will remove the rows that contain null values.\"))\n",
    "\n",
    "\n",
    "#2. CLEAN THE DATASET, remove NA's\n",
    "chicagoDF= chicagoDF.where(\"LocationDescription is not null and District is not null and Ward is not \\\n",
    "null and Community is not null and Longitude is not null\" ).cache()\n",
    "\n",
    "#3. Verify no more NA's\n",
    "display(Markdown(\"In the new dataframe cleanchicagoDF, check that there are no more missing values in location columns:\"))\n",
    "\n",
    "chicagoDF.select([count(when(col(c).isNull(), c)).alias(c) for c in [\"Beat\",\"Ward\",\"Community\"]]).show()\n",
    "\n",
    "chicagoDF.select([count(when(col(c).isNull(), c)).alias(c) for c in [\"Block\",\"District\",\"LocationDescription\",\"Location\"]]).show()\n",
    "\n",
    "chicagoDF.select([count(when(col(c).isNull(), c)).alias(c) for c in [\"Longitude\",\"Latitude\",\"X Coordinate\", \"Y coordinate\"]]).show()"
   ]
  },
  {
   "cell_type": "code",
   "execution_count": 12,
   "metadata": {},
   "outputs": [
    {
     "data": {
      "text/markdown": [
       "Now that the dataset is clean, investigate location columns:"
      ],
      "text/plain": [
       "<IPython.core.display.Markdown object>"
      ]
     },
     "metadata": {},
     "output_type": "display_data"
    },
    {
     "data": {
      "text/markdown": [
       "Check number of distinct values in columns Block, Location Description, Beat, District,\n",
       "Ward, Community and Location"
      ],
      "text/plain": [
       "<IPython.core.display.Markdown object>"
      ]
     },
     "metadata": {},
     "output_type": "display_data"
    },
    {
     "name": "stdout",
     "output_type": "stream",
     "text": [
      "+-----+-------------------+----+--------+----+---------+--------+\n",
      "|Block|LocationDescription|Beat|District|Ward|Community|Location|\n",
      "+-----+-------------------+----+--------+----+---------+--------+\n",
      "|25605|                 97| 284|      23|  50|       78|  107436|\n",
      "+-----+-------------------+----+--------+----+---------+--------+\n",
      "\n"
     ]
    },
    {
     "data": {
      "text/markdown": [
       "This are  **25605** different block locations."
      ],
      "text/plain": [
       "<IPython.core.display.Markdown object>"
      ]
     },
     "metadata": {},
     "output_type": "display_data"
    },
    {
     "data": {
      "text/markdown": [
       "This are  **97** different location description."
      ],
      "text/plain": [
       "<IPython.core.display.Markdown object>"
      ]
     },
     "metadata": {},
     "output_type": "display_data"
    },
    {
     "data": {
      "text/markdown": [
       "This are  **23** different districts."
      ],
      "text/plain": [
       "<IPython.core.display.Markdown object>"
      ]
     },
     "metadata": {},
     "output_type": "display_data"
    },
    {
     "data": {
      "text/markdown": [
       "This are  **107436** different locations."
      ],
      "text/plain": [
       "<IPython.core.display.Markdown object>"
      ]
     },
     "metadata": {},
     "output_type": "display_data"
    },
    {
     "data": {
      "text/markdown": [
       "Most and least frequent occurrences for Location columns:"
      ],
      "text/plain": [
       "<IPython.core.display.Markdown object>"
      ]
     },
     "metadata": {},
     "output_type": "display_data"
    },
    {
     "data": {
      "text/markdown": [
       "\n",
       "| leastFreqBeat | mostFreqBeat | leastFreqDistrict | mostFreqDistrict |\n",
       "|----|----|----|----|\n",
       "| 1653 (1 occurrences) | 423 (1580 occurrences) | 31 (2 occurrences) | 8 (13339 occurrences) |\n"
      ],
      "text/plain": [
       "<IPython.core.display.Markdown object>"
      ]
     },
     "metadata": {},
     "output_type": "display_data"
    },
    {
     "data": {
      "text/markdown": [
       "\n",
       "| leastFreqBlock | mostFreqBlock |\n",
       "|----|----|\n",
       "| 060XX N MAPLEWOOD AVE (1 occurrences) | 100XX W OHARE ST (682 occurrences) |\n"
      ],
      "text/plain": [
       "<IPython.core.display.Markdown object>"
      ]
     },
     "metadata": {},
     "output_type": "display_data"
    },
    {
     "data": {
      "text/markdown": [
       "\n",
       "| leastFreqLocDes | mostFreqLocDes | leastFreqLocation | mostFreqLocation |\n",
       "|----|----|----|----|\n",
       "| BASEMENT (1 occurrences) | STREET (50036 occurrences) | (41.774946007, -87.764049247) (1 occurrences) | (41.976290414, -87.905227221) (1 occurrences) |\n"
      ],
      "text/plain": [
       "<IPython.core.display.Markdown object>"
      ]
     },
     "metadata": {},
     "output_type": "display_data"
    }
   ],
   "source": [
    "#4. NOW THAT THE DATASET CONTAINS NO NA's , look at distinct values, least vs. most freq\n",
    "display(Markdown(\"Now that the dataset is clean, investigate location columns:\"))\n",
    "\n",
    "BlockDF     = chicagoDF.groupBy(\"Block\").agg(count(lit(1)).alias(\"Total\"))\n",
    "LocDesDF    = chicagoDF.groupBy(\"LocationDescription\").agg(count(lit(1)).alias(\"Total\"))\n",
    "BeatDF      = chicagoDF.groupBy(\"Beat\").agg(count(lit(1)).alias(\"Total\"))\n",
    "DistrictDF  = chicagoDF.groupBy(\"District\").agg(count(lit(1)).alias(\"Total\"))\n",
    "LocationDF  = chicagoDF.groupBy(\"Location\").agg(count(lit(1)).alias(\"Total\"))\n",
    "\n",
    "display(Markdown(\"Check number of distinct values in columns Block, Location Description, Beat, District,\\nWard, Community and Location\"))\n",
    "\n",
    "chicagoDF.select([countDistinct(c).alias(c) for c in [\"Block\",\"LocationDescription\",\"Beat\",\"District\",\"Ward\",\"Community\", \"Location\"]]).show()\n",
    "    \n",
    "display(Markdown(\"This are  **%d** different block locations.\" % BlockDF.count()))\n",
    "display(Markdown(\"This are  **%d** different location description.\" % LocDesDF.count()))\n",
    "display(Markdown(\"This are  **%d** different districts.\" % DistrictDF.count()))\n",
    "display(Markdown(\"This are  **%d** different locations.\" % LocationDF.count()))\n",
    "\n",
    "display(Markdown(\"Most and least frequent occurrences for Location columns:\"))\n",
    "\n",
    "\n",
    "leastFreqBlock    = BlockDF.orderBy(col(\"Total\").asc()).first()\n",
    "mostFreqBlock     = BlockDF.orderBy(col(\"Total\").desc()).first()\n",
    "leastFreqLocDes   = LocDesDF.orderBy(col(\"Total\").asc()).first()\n",
    "mostFreqLocDes    = LocDesDF.orderBy(col(\"Total\").desc()).first()\n",
    "leastFreqBeat     = BeatDF.orderBy(col(\"Total\").asc()).first()\n",
    "mostFreqBeat      = BeatDF.orderBy(col(\"Total\").desc()).first()\n",
    "leastFreqDistrict = DistrictDF.orderBy(col(\"Total\").asc()).first()\n",
    "mostFreqDistrict  = DistrictDF.orderBy(col(\"Total\").desc()).first()\n",
    "leastFreqLocation = LocationDF.orderBy(col(\"Total\").asc()).first()\n",
    "mostFreqLocation  = LocationDF.orderBy(col(\"Total\").desc()).first()\n",
    "\n",
    "\n",
    "#Attention dans la partie du bas \"\"\" % (..)\n",
    "# le \"%d\" or \"%s\" dépend du data type (digits ou strings!!!)\n",
    "display(Markdown(\"\"\"\n",
    "| %s | %s | %s | %s |\n",
    "|----|----|----|----|\n",
    "| %s | %s | %s | %s |\n",
    "\"\"\" % (\"leastFreqBeat\", \"mostFreqBeat\",\"leastFreqDistrict\", \"mostFreqDistrict\", \\\n",
    "       \"%d (%d occurrences)\" % (leastFreqBeat[\"Beat\"], leastFreqBeat[\"Total\"]), \\\n",
    "       \"%d (%d occurrences)\" % (mostFreqBeat[\"Beat\"], mostFreqBeat[\"Total\"]), \\\n",
    "       \"%d (%d occurrences)\" % (leastFreqDistrict[\"District\"], leastFreqDistrict[\"Total\"]), \\\n",
    "       \"%d (%d occurrences)\" % (mostFreqDistrict[\"District\"], mostFreqDistrict[\"Total\"]))))\n",
    "\n",
    "display(Markdown(\"\"\"\n",
    "| %s | %s |\n",
    "|----|----|\n",
    "| %s | %s |\n",
    "\"\"\" % (\"leastFreqBlock\", \"mostFreqBlock\", \\\n",
    "       \"%s (%d occurrences)\" % (leastFreqBlock[\"Block\"], leastFreqBlock[\"Total\"]), \\\n",
    "       \"%s (%d occurrences)\" % (mostFreqBlock[\"Block\"], mostFreqBlock[\"Total\"]))))\n",
    "\n",
    "display(Markdown(\"\"\"\n",
    "| %s | %s | %s | %s |\n",
    "|----|----|----|----|\n",
    "| %s | %s | %s | %s |\n",
    "\"\"\" % (\"leastFreqLocDes\", \"mostFreqLocDes\", \"leastFreqLocation\",\"mostFreqLocation\", \\\n",
    "       \"%s (%d occurrences)\" % (leastFreqLocDes[\"LocationDescription\"], leastFreqLocDes[\"Total\"]), \\\n",
    "       \"%s (%d occurrences)\" % (mostFreqLocDes[\"LocationDescription\"], mostFreqLocDes[\"Total\"]),\\\n",
    "       \"%s (%d occurrences)\" % (leastFreqLocation[\"Location\"], leastFreqLocation[\"Total\"]), \\\n",
    "       \"%s (%d occurrences)\" % (mostFreqLocation[\"Location\"], leastFreqLocation[\"Total\"]))))\n"
   ]
  },
  {
   "cell_type": "code",
   "execution_count": 13,
   "metadata": {
    "scrolled": false
   },
   "outputs": [
    {
     "data": {
      "text/markdown": [
       ">### B. Time-related columns profiling"
      ],
      "text/plain": [
       "<IPython.core.display.Markdown object>"
      ]
     },
     "metadata": {},
     "output_type": "display_data"
    },
    {
     "data": {
      "text/markdown": [
       "Summary of columns Year, Month, DayOfMonth, DayOfWeek, Hour and hour_am_pm:"
      ],
      "text/plain": [
       "<IPython.core.display.Markdown object>"
      ]
     },
     "metadata": {},
     "output_type": "display_data"
    },
    {
     "name": "stdout",
     "output_type": "stream",
     "text": [
      "+-------+------------------+-----------------+------------------+------------------+-----------------+------------------+\n",
      "|summary|              Year|            Month|        DayOfMonth|         DayOfWeek|             Hour|        hour_am_pm|\n",
      "+-------+------------------+-----------------+------------------+------------------+-----------------+------------------+\n",
      "|  count|            185959|           185959|            185959|            185959|           185959|            185959|\n",
      "|   mean|2006.0914610209777| 6.46829139756613|15.638630020595938|3.9937835759495375|6.972977914486527|14.589753655375647|\n",
      "| stddev|0.7518871419099914|3.279803445193015|  8.82818594774572| 1.975329964010372|3.555519838825136|  6.45521954796434|\n",
      "|    min|              2005|                1|                 1|                 1|                1|                 1|\n",
      "|    25%|              2006|                4|                 8|                 2|                4|                10|\n",
      "|    50%|              2006|                6|                16|                 4|                7|                15|\n",
      "|    75%|              2007|                9|                23|                 6|               10|                20|\n",
      "|    max|              2007|               12|                31|                 7|               12|                24|\n",
      "+-------+------------------+-----------------+------------------+------------------+-----------------+------------------+\n",
      "\n"
     ]
    },
    {
     "data": {
      "text/markdown": [
       "Check for nulls on columns Year, Month, Day of month, and Day of week, Hour and hour_am_pm:"
      ],
      "text/plain": [
       "<IPython.core.display.Markdown object>"
      ]
     },
     "metadata": {},
     "output_type": "display_data"
    },
    {
     "name": "stdout",
     "output_type": "stream",
     "text": [
      "+----+-----+----------+---------+----+----------+\n",
      "|Year|Month|DayOfMonth|DayOfWeek|Hour|hour_am_pm|\n",
      "+----+-----+----------+---------+----+----------+\n",
      "|   0|    0|         0|        0|   0|         0|\n",
      "+----+-----+----------+---------+----+----------+\n",
      "\n"
     ]
    },
    {
     "data": {
      "text/markdown": [
       "There are no missing values, which is essential for further analysis."
      ],
      "text/plain": [
       "<IPython.core.display.Markdown object>"
      ]
     },
     "metadata": {},
     "output_type": "display_data"
    },
    {
     "data": {
      "text/markdown": [
       "Check the amount of distinct values in columns Year, Month, DayOfMonth, DayOfWeek, Hour and hour_am_pm :"
      ],
      "text/plain": [
       "<IPython.core.display.Markdown object>"
      ]
     },
     "metadata": {},
     "output_type": "display_data"
    },
    {
     "name": "stdout",
     "output_type": "stream",
     "text": [
      "+----+-----+----------+---------+----+----------+\n",
      "|Year|Month|DayOfMonth|DayOfWeek|Hour|hour_am_pm|\n",
      "+----+-----+----------+---------+----+----------+\n",
      "|   3|   12|        31|        7|  12|        24|\n",
      "+----+-----+----------+---------+----+----------+\n",
      "\n"
     ]
    }
   ],
   "source": [
    "display(Markdown(\">### B. Time-related columns profiling\"))\n",
    "from IPython.display import display, Markdown\n",
    "from pyspark.sql.functions import when, count, col, countDistinct, desc, first, lit\n",
    "\n",
    "#Get a general idea of the distribution of the data\n",
    "display(Markdown(\"Summary of columns Year, Month, DayOfMonth, DayOfWeek, Hour and hour_am_pm:\"))\n",
    "chicagoDF.select(\"Year\",\"Month\",\"DayOfMonth\", \"DayOfWeek\",\"Hour\",\"hour_am_pm\").summary().show()\n",
    "\n",
    "#check for nulls to make sure we can perform the calculations needed for the analysis\n",
    "display(Markdown(\"Check for nulls on columns Year, Month, Day of month, and Day of week, Hour and hour_am_pm:\"))\n",
    "chicagoDF.select([count(when(col(c).isNull(), c)).alias(c) for c in [\"Year\", \"Month\", \"DayOfMonth\",\"DayOfWeek\",\"Hour\", \"hour_am_pm\"]]).show()\n",
    "display(Markdown(\"There are no missing values, which is essential for further analysis.\"))\n",
    "\n",
    "#check the number of distinct values to make sure the date columns have values consistent with the calendar\n",
    "display(Markdown(\"Check the amount of distinct values in columns Year, Month, DayOfMonth, DayOfWeek, Hour and hour_am_pm :\"))\n",
    "chicagoDF.select([countDistinct(c).alias(c) for c in [\"Year\", \"Month\", \"DayOfMonth\", \"DayOfWeek\", \"Hour\",\"hour_am_pm\"]]).show()"
   ]
  },
  {
   "cell_type": "code",
   "execution_count": 14,
   "metadata": {},
   "outputs": [
    {
     "data": {
      "text/markdown": [
       "Most and least frequent occurrences for hour_am_pm:"
      ],
      "text/plain": [
       "<IPython.core.display.Markdown object>"
      ]
     },
     "metadata": {},
     "output_type": "display_data"
    },
    {
     "data": {
      "text/markdown": [
       "\n",
       "| leastFreqHour | mostFreqHour |\n",
       "|----|----|\n",
       "| 5 (2450 occurrences) | 24 (10926 occurrences) |\n"
      ],
      "text/plain": [
       "<IPython.core.display.Markdown object>"
      ]
     },
     "metadata": {},
     "output_type": "display_data"
    },
    {
     "data": {
      "text/markdown": [
       "The most frequent hour is  24"
      ],
      "text/plain": [
       "<IPython.core.display.Markdown object>"
      ]
     },
     "metadata": {},
     "output_type": "display_data"
    },
    {
     "data": {
      "text/markdown": [
       "Most and least frequent occurrences for DayofMonth and DayOfWeek columns:"
      ],
      "text/plain": [
       "<IPython.core.display.Markdown object>"
      ]
     },
     "metadata": {},
     "output_type": "display_data"
    },
    {
     "data": {
      "text/markdown": [
       "\n",
       "| leastFreqDayOfMonth | mostFreqDayOfMonth | leastFreqDayOfWeek | mostFreqDayOfWeek |\n",
       "|----|----|----|----|\n",
       "| 31 (3573 occurrences) | 1 (6977 occurrences) | 7 (25006 occurrences) | 5 (28190 occurrences) |\n"
      ],
      "text/plain": [
       "<IPython.core.display.Markdown object>"
      ]
     },
     "metadata": {},
     "output_type": "display_data"
    },
    {
     "data": {
      "text/markdown": [
       "The most frequent day of the month is day 1"
      ],
      "text/plain": [
       "<IPython.core.display.Markdown object>"
      ]
     },
     "metadata": {},
     "output_type": "display_data"
    },
    {
     "data": {
      "text/markdown": [
       "The most frequent day of the week is day 5"
      ],
      "text/plain": [
       "<IPython.core.display.Markdown object>"
      ]
     },
     "metadata": {},
     "output_type": "display_data"
    },
    {
     "data": {
      "text/markdown": [
       "Most and least frequent occurrences for Month and Year columns:"
      ],
      "text/plain": [
       "<IPython.core.display.Markdown object>"
      ]
     },
     "metadata": {},
     "output_type": "display_data"
    },
    {
     "data": {
      "text/markdown": [
       "\n",
       "| leastFreqMonth | mostFreqMonth | leastFreqYear | mostFreqYear |\n",
       "|----|----|----|----|\n",
       "| 2 (11926 occurrences) | 5 (19551 occurrences) | 2005 (44838 occurrences) | 2006 (79275 occurrences) |\n"
      ],
      "text/plain": [
       "<IPython.core.display.Markdown object>"
      ]
     },
     "metadata": {},
     "output_type": "display_data"
    },
    {
     "data": {
      "text/markdown": [
       "The most frequent month is  5"
      ],
      "text/plain": [
       "<IPython.core.display.Markdown object>"
      ]
     },
     "metadata": {},
     "output_type": "display_data"
    },
    {
     "data": {
      "text/markdown": [
       "The most frequent year is 2006"
      ],
      "text/plain": [
       "<IPython.core.display.Markdown object>"
      ]
     },
     "metadata": {},
     "output_type": "display_data"
    }
   ],
   "source": [
    "#Look at extremes for time-related values\n",
    "\n",
    "#Look at extremes: hours am/pm\n",
    "display(Markdown(\"Most and least frequent occurrences for hour_am_pm:\"))\n",
    "HourOccurrencesDF = chicagoDF.groupBy(\"hour_am_pm\").agg(count(lit(1)).alias(\"Total\"))\n",
    "\n",
    "leastFreqHour    = HourOccurrencesDF.orderBy(col(\"Total\").asc()).first()\n",
    "mostFreqHour     = HourOccurrencesDF.orderBy(col(\"Total\").desc()).first()\n",
    "\n",
    "display(Markdown(\"\"\"\n",
    "| %s | %s |\n",
    "|----|----|\n",
    "| %s | %s |\n",
    "\"\"\" % (\"leastFreqHour\", \"mostFreqHour\", \\\n",
    "       \"%d (%d occurrences)\" % (leastFreqHour[\"hour_am_pm\"], leastFreqHour[\"Total\"]), \\\n",
    "       \"%d (%d occurrences)\" % (mostFreqHour[\"hour_am_pm\"], mostFreqHour[\"Total\"]))))\n",
    "display(Markdown(f\"The most frequent hour is  {(mostFreqHour['hour_am_pm']) }\"))\n",
    "\n",
    "\n",
    "#Look at extremes for day of month & day of week\n",
    "display(Markdown(\"Most and least frequent occurrences for DayofMonth and DayOfWeek columns:\"))\n",
    "dayofMonthOccurrencesDF = chicagoDF.groupBy(\"DayofMonth\").agg(count(lit(1)).alias(\"Total\"))\n",
    "dayOfWeekDF = chicagoDF.groupBy(\"DayOfWeek\").agg(count(lit(1)).alias(\"Total\"))\n",
    "\n",
    "leastFreqDayOfMonth    = dayofMonthOccurrencesDF.orderBy(col(\"Total\").asc()).first()\n",
    "mostFreqDayOfMonth     = dayofMonthOccurrencesDF.orderBy(col(\"Total\").desc()).first()\n",
    "leastFreqDayOfWeek     = dayOfWeekDF.orderBy(col(\"Total\").asc()).first()\n",
    "mostFreqDayOfWeek      = dayOfWeekDF.orderBy(col(\"Total\").desc()).first()\n",
    "\n",
    "display(Markdown(\"\"\"\n",
    "| %s | %s | %s | %s |\n",
    "|----|----|----|----|\n",
    "| %s | %s | %s | %s |\n",
    "\"\"\" % (\"leastFreqDayOfMonth\", \"mostFreqDayOfMonth\", \"leastFreqDayOfWeek\", \"mostFreqDayOfWeek\", \\\n",
    "       \"%d (%d occurrences)\" % (leastFreqDayOfMonth[\"DayofMonth\"], leastFreqDayOfMonth[\"Total\"]), \\\n",
    "       \"%d (%d occurrences)\" % (mostFreqDayOfMonth[\"DayofMonth\"], mostFreqDayOfMonth[\"Total\"]), \\\n",
    "       \"%d (%d occurrences)\" % (leastFreqDayOfWeek[\"DayOfWeek\"], leastFreqDayOfWeek[\"Total\"]), \\\n",
    "       \"%d (%d occurrences)\" % (mostFreqDayOfWeek[\"DayOfWeek\"], mostFreqDayOfWeek[\"Total\"]))))\n",
    "display(Markdown(f\"The most frequent day of the month is day {(mostFreqDayOfMonth['DayofMonth']) }\"))\n",
    "display(Markdown(f\"The most frequent day of the week is day {mostFreqDayOfWeek['DayOfWeek']}\"))\n",
    "\n",
    "\n",
    "#Look at extremes for month and year\n",
    "display(Markdown(\"Most and least frequent occurrences for Month and Year columns:\"))\n",
    "MonthOccurrencesDF = chicagoDF.groupBy(\"Month\").agg(count(lit(1)).alias(\"Total\"))\n",
    "YearOccurencesDF = chicagoDF.groupBy(\"Year\").agg(count(lit(1)).alias(\"Total\"))\n",
    "\n",
    "leastFreqMonth    = MonthOccurrencesDF.orderBy(col(\"Total\").asc()).first()\n",
    "mostFreqMonth     = MonthOccurrencesDF.orderBy(col(\"Total\").desc()).first()\n",
    "leastFreqYear     = YearOccurencesDF.orderBy(col(\"Total\").asc()).first()\n",
    "mostFreqYear      = YearOccurencesDF.orderBy(col(\"Total\").desc()).first()\n",
    "\n",
    "display(Markdown(\"\"\"\n",
    "| %s | %s | %s | %s |\n",
    "|----|----|----|----|\n",
    "| %s | %s | %s | %s |\n",
    "\"\"\" % (\"leastFreqMonth\", \"mostFreqMonth\", \"leastFreqYear\", \"mostFreqYear\", \\\n",
    "       \"%d (%d occurrences)\" % (leastFreqMonth[\"Month\"], leastFreqMonth[\"Total\"]), \\\n",
    "       \"%d (%d occurrences)\" % (mostFreqMonth[\"Month\"], mostFreqMonth[\"Total\"]), \\\n",
    "       \"%d (%d occurrences)\" % (leastFreqYear[\"Year\"], leastFreqYear[\"Total\"]), \\\n",
    "       \"%d (%d occurrences)\" % (mostFreqYear[\"Year\"], mostFreqYear[\"Total\"]))))\n",
    "display(Markdown(f\"The most frequent month is  {(mostFreqMonth['Month']) }\"))\n",
    "display(Markdown(f\"The most frequent year is {mostFreqYear['Year']}\"))"
   ]
  },
  {
   "cell_type": "code",
   "execution_count": 15,
   "metadata": {},
   "outputs": [
    {
     "data": {
      "text/markdown": [
       ">### C. Crime-specific columns profiling"
      ],
      "text/plain": [
       "<IPython.core.display.Markdown object>"
      ]
     },
     "metadata": {},
     "output_type": "display_data"
    },
    {
     "data": {
      "text/markdown": [
       "Columns of interest: IUCR, Primary Type, Description, Arrest, Domestic"
      ],
      "text/plain": [
       "<IPython.core.display.Markdown object>"
      ]
     },
     "metadata": {},
     "output_type": "display_data"
    },
    {
     "data": {
      "text/markdown": [
       "Crimes-specific columns are important to understand what type of crimes are more frequents and gain insights related to their nature.i.e. which districts / communities are safer; which are unsafe."
      ],
      "text/plain": [
       "<IPython.core.display.Markdown object>"
      ]
     },
     "metadata": {},
     "output_type": "display_data"
    },
    {
     "data": {
      "text/markdown": [
       "Check for missing values in columns  IUCR, Primary Type, Description, Arrest and Domestic:"
      ],
      "text/plain": [
       "<IPython.core.display.Markdown object>"
      ]
     },
     "metadata": {},
     "output_type": "display_data"
    },
    {
     "name": "stdout",
     "output_type": "stream",
     "text": [
      "+----+------------+-----------+------+--------+\n",
      "|IUCR|Primary Type|Description|Arrest|Domestic|\n",
      "+----+------------+-----------+------+--------+\n",
      "|   0|           0|          0|     0|       0|\n",
      "+----+------------+-----------+------+--------+\n",
      "\n"
     ]
    },
    {
     "data": {
      "text/markdown": [
       "Number of distinct values in columns  IUCR, Primary Type, Description, Arrest and Domestic:"
      ],
      "text/plain": [
       "<IPython.core.display.Markdown object>"
      ]
     },
     "metadata": {},
     "output_type": "display_data"
    },
    {
     "name": "stdout",
     "output_type": "stream",
     "text": [
      "+----+------------+-----------+------+--------+\n",
      "|IUCR|Primary Type|Description|Arrest|Domestic|\n",
      "+----+------------+-----------+------+--------+\n",
      "| 316|          29|        296|     2|       2|\n",
      "+----+------------+-----------+------+--------+\n",
      "\n"
     ]
    }
   ],
   "source": [
    "display(Markdown(\">### C. Crime-specific columns profiling\"))\n",
    "\n",
    "from IPython.display import display, Markdown\n",
    "from pyspark.sql.functions import when, count, col, countDistinct, desc, first\n",
    "\n",
    "display(Markdown(\"Columns of interest: IUCR, Primary Type, Description, Arrest, Domestic\"))\n",
    "display(Markdown(\"Crimes-specific columns are important to understand what type of crimes are more frequents and gain insights related to their nature.\\\n",
    "i.e. which districts / communities are safer; which are unsafe.\"))\n",
    "\n",
    "display(Markdown((\"Check for missing values in columns  IUCR, Primary Type, Description, Arrest and Domestic:\")))\n",
    "chicagoDF.select([count(when(col(c).isNull(), c)).alias(c) for c in \\\n",
    "                    [\"IUCR\",\"Primary Type\",\"Description\",\"Arrest\",\\\n",
    "                    \"Domestic\"]]).show()\n",
    "display(Markdown((\"Number of distinct values in columns  IUCR, Primary Type, Description, Arrest and Domestic:\")))\n",
    "chicagoDF.select([countDistinct(c).alias(c) for c in [\"IUCR\", \"Primary Type\", \"Description\", \"Arrest\", \"Domestic\" ]]).show()"
   ]
  },
  {
   "cell_type": "code",
   "execution_count": 16,
   "metadata": {},
   "outputs": [
    {
     "data": {
      "text/markdown": [
       "Most and least frequent occurrences for crime-related columns:"
      ],
      "text/plain": [
       "<IPython.core.display.Markdown object>"
      ]
     },
     "metadata": {},
     "output_type": "display_data"
    },
    {
     "data": {
      "text/markdown": [
       "\n",
       "| leastFreqDescription | mostFreqDescription | leastFreqPrimary | mostFreqPrimary |\n",
       "|----|----|----|----|\n",
       "| JUVENILE PIMPING (1 occurrences) | SIMPLE (20726 occurrences) | RITUALISM (1 occurrences) | THEFT (35145 occurrences) |\n"
      ],
      "text/plain": [
       "<IPython.core.display.Markdown object>"
      ]
     },
     "metadata": {},
     "output_type": "display_data"
    },
    {
     "name": "stdout",
     "output_type": "stream",
     "text": [
      "Row(Arrest=False, Total=128647)\n",
      "Row(Domestic=False, Total=164598)\n"
     ]
    }
   ],
   "source": [
    "display(Markdown(\"Most and least frequent occurrences for crime-related columns:\"))\n",
    "IucrDF         = chicagoDF.groupBy(\"IUCR\").agg(count(lit(1)).alias(\"Total\"))\n",
    "PrimaryTypeDF  = chicagoDF.groupBy(\"Primary Type\").agg(count(lit(1)).alias(\"Total\"))\n",
    "DesDF          = chicagoDF.groupBy(\"Description\").agg(count(lit(1)).alias(\"Total\"))\n",
    "\n",
    "leastFreqIUCR    = IucrDF.orderBy(col(\"Total\").asc()).first()\n",
    "mostFreqIUCR     = IucrDF.orderBy(col(\"Total\").desc()).first()\n",
    "leastFreqPrimary = PrimaryTypeDF.orderBy(col(\"Total\").asc()).first()\n",
    "mostFreqPrimary  = PrimaryTypeDF.orderBy(col(\"Total\").desc()).first()\n",
    "leastFreqDesc    = DesDF.orderBy(col(\"Total\").asc()).first()\n",
    "mostFreqDesc     = DesDF.orderBy(col(\"Total\").desc()).first()\n",
    "\n",
    "\n",
    "display(Markdown(\"\"\"\n",
    "| %s | %s | %s | %s |\n",
    "|----|----|----|----|\n",
    "| %s | %s | %s | %s |\n",
    "\"\"\" % (\"leastFreqDescription\", \"mostFreqDescription\", \"leastFreqPrimary\", \"mostFreqPrimary\", \\\n",
    "       \"%s (%d occurrences)\" % (leastFreqDesc[\"Description\"], leastFreqDesc[\"Total\"]), \\\n",
    "       \"%s (%d occurrences)\" % (mostFreqDesc[\"Description\"], mostFreqDesc[\"Total\"]), \\\n",
    "       \"%s (%d occurrences)\" % (leastFreqPrimary[\"Primary Type\"], leastFreqPrimary[\"Total\"]), \\\n",
    "       \"%s (%d occurrences)\" % (mostFreqPrimary[\"Primary Type\"], mostFreqPrimary[\"Total\"]))))\n",
    "\n",
    "#check for the boolean columns\n",
    "ArrestDF          = chicagoDF.groupBy(\"Arrest\").agg(count(lit(1)).alias(\"Total\"))\n",
    "DomesticDF        = chicagoDF.groupBy(\"Domestic\").agg(count(lit(1)).alias(\"Total\"))\n",
    "leastFreqArrest   = ArrestDF.orderBy(col(\"Total\").asc()).first()\n",
    "mostFreqArrest    = ArrestDF.orderBy(col(\"Total\").desc()).first()\n",
    "leastFreqDomestic = DomesticDF.orderBy(col(\"Total\").asc()).first()\n",
    "mostFreqDomestic  = DomesticDF.orderBy(col(\"Total\").desc()).first()\n",
    "print(mostFreqArrest)\n",
    "print(mostFreqDomestic)"
   ]
  },
  {
   "cell_type": "markdown",
   "metadata": {},
   "source": [
    "## 5. Answer questions to understand crime in the city of Chicago\n",
    "\n",
    "\n",
    ">### A. Top 5's:\n",
    "\n"
   ]
  },
  {
   "cell_type": "code",
   "execution_count": 17,
   "metadata": {},
   "outputs": [
    {
     "data": {
      "text/markdown": [
       "These are the top 5 Location Descriptions when arrests are made:"
      ],
      "text/plain": [
       "<IPython.core.display.Markdown object>"
      ]
     },
     "metadata": {},
     "output_type": "display_data"
    },
    {
     "name": "stdout",
     "output_type": "stream",
     "text": [
      "+-------------------+-----+\n",
      "|LocationDescription|count|\n",
      "+-------------------+-----+\n",
      "|             STREET|15904|\n",
      "|           SIDEWALK|11819|\n",
      "|          RESIDENCE| 4452|\n",
      "|          APARTMENT| 3589|\n",
      "|              ALLEY| 2212|\n",
      "+-------------------+-----+\n",
      "\n"
     ]
    },
    {
     "data": {
      "text/markdown": [
       "These are the top 5 Primary Types and their accompanying Location Description:"
      ],
      "text/plain": [
       "<IPython.core.display.Markdown object>"
      ]
     },
     "metadata": {},
     "output_type": "display_data"
    },
    {
     "name": "stdout",
     "output_type": "stream",
     "text": [
      "+-------------------+------------+-----+\n",
      "|LocationDescription|Primary Type|count|\n",
      "+-------------------+------------+-----+\n",
      "|           SIDEWALK|   NARCOTICS| 8127|\n",
      "|             STREET|   NARCOTICS| 8117|\n",
      "|             STREET|PROSTITUTION| 2343|\n",
      "|          APARTMENT|     BATTERY| 1896|\n",
      "|          RESIDENCE|     BATTERY| 1654|\n",
      "+-------------------+------------+-----+\n",
      "\n"
     ]
    },
    {
     "data": {
      "text/markdown": [
       "These are the top 5 Location Descriptions when no arrest is made:"
      ],
      "text/plain": [
       "<IPython.core.display.Markdown object>"
      ]
     },
     "metadata": {},
     "output_type": "display_data"
    },
    {
     "name": "stdout",
     "output_type": "stream",
     "text": [
      "+-------------------+-----+\n",
      "|LocationDescription|count|\n",
      "+-------------------+-----+\n",
      "|             STREET|34132|\n",
      "|          RESIDENCE|25824|\n",
      "|          APARTMENT|14317|\n",
      "|           SIDEWALK| 8931|\n",
      "|              OTHER| 5242|\n",
      "+-------------------+-----+\n",
      "\n"
     ]
    },
    {
     "data": {
      "text/markdown": [
       "These are the top 5 Primary Types and accompanying Locations Descriptions:"
      ],
      "text/plain": [
       "<IPython.core.display.Markdown object>"
      ]
     },
     "metadata": {},
     "output_type": "display_data"
    },
    {
     "name": "stdout",
     "output_type": "stream",
     "text": [
      "+-------------------+-------------------+-----+\n",
      "|LocationDescription|       Primary Type|count|\n",
      "+-------------------+-------------------+-----+\n",
      "|             STREET|              THEFT| 9648|\n",
      "|             STREET|    CRIMINAL DAMAGE| 7290|\n",
      "|             STREET|MOTOR VEHICLE THEFT| 6282|\n",
      "|          RESIDENCE|      OTHER OFFENSE| 5308|\n",
      "|          RESIDENCE|            BATTERY| 5173|\n",
      "+-------------------+-------------------+-----+\n",
      "\n"
     ]
    },
    {
     "data": {
      "text/markdown": [
       "Insight: crimes that lead to arrests are usually committed in public places. The top 5 primary types vary:                it is harder to make arrests for crimes related to drugs and prostitution where evidene often lacks.                On the contrary, it is easier to make arrests related to thefts, if the person is caught with stolen goods"
      ],
      "text/plain": [
       "<IPython.core.display.Markdown object>"
      ]
     },
     "metadata": {},
     "output_type": "display_data"
    }
   ],
   "source": [
    "#Primary type and Location of the crime vs. Arrests.\n",
    "#different kinds of crime: thefts which involve the criminal leaving the scene vs. arrests for drug busts and domestic violence.\n",
    "\n",
    "from pyspark.sql.functions import concat\n",
    "display(Markdown(\"These are the top 5 Location Descriptions when arrests are made:\"))\n",
    "chicagoDF.where(\"Arrest = true\").groupBy(\"LocationDescription\").count().orderBy(col(\"count\").desc()).limit(5).show()\n",
    "display(Markdown(\"These are the top 5 Primary Types and their accompanying Location Description:\"))\n",
    "chicagoDF.where(\"Arrest = true\").groupBy(\"LocationDescription\", \"Primary Type\").count().orderBy(col(\"count\").desc()).limit(5).show()\n",
    "\n",
    "display(Markdown(\"These are the top 5 Location Descriptions when no arrest is made:\"))\n",
    "chicagoDF.where(\"Arrest = false\").groupBy(\"LocationDescription\").count().orderBy(col(\"count\").desc()).limit(5).show()\n",
    "display(Markdown(\"These are the top 5 Primary Types and accompanying Locations Descriptions:\"))\n",
    "chicagoDF.where(\"Arrest = false\").groupBy(\"LocationDescription\", \"Primary Type\").count().orderBy(col(\"count\").desc()).limit(5).show()\n",
    "\n",
    "\n",
    "display(Markdown(\"Insight: crimes that lead to arrests are usually committed in public places. The top 5 primary types vary:\\\n",
    "                it is harder to make arrests for crimes related to drugs and prostitution where evidene often lacks.\\\n",
    "                On the contrary, it is easier to make arrests related to thefts, if the person is caught with stolen goods\"))"
   ]
  },
  {
   "cell_type": "markdown",
   "metadata": {},
   "source": [
    ">### B. Ratio of number of crimes & frequency of crime type by day time category"
   ]
  },
  {
   "cell_type": "code",
   "execution_count": 18,
   "metadata": {
    "scrolled": false
   },
   "outputs": [
    {
     "data": {
      "text/markdown": [
       "Breakdown of the number of crimes committed by TimeDayCategory"
      ],
      "text/plain": [
       "<IPython.core.display.Markdown object>"
      ]
     },
     "metadata": {},
     "output_type": "display_data"
    },
    {
     "name": "stdout",
     "output_type": "stream",
     "text": [
      "+---------------+-----+------------+\n",
      "|TimeDayCategory|Count|RoundedRatio|\n",
      "+---------------+-----+------------+\n",
      "|      3.evening|61482|       33.06|\n",
      "|          2.day|56140|       30.19|\n",
      "|      1.morning|36425|       19.59|\n",
      "|        4.night|31912|       17.16|\n",
      "+---------------+-----+------------+\n",
      "\n"
     ]
    },
    {
     "data": {
      "text/markdown": [
       "Most crimes are committed in the evening."
      ],
      "text/plain": [
       "<IPython.core.display.Markdown object>"
      ]
     },
     "metadata": {},
     "output_type": "display_data"
    },
    {
     "data": {
      "text/markdown": [
       "Types of crimes (Description) that occur at different moments of the day:"
      ],
      "text/plain": [
       "<IPython.core.display.Markdown object>"
      ]
     },
     "metadata": {},
     "output_type": "display_data"
    },
    {
     "data": {
      "text/markdown": [
       "Morning:"
      ],
      "text/plain": [
       "<IPython.core.display.Markdown object>"
      ]
     },
     "metadata": {},
     "output_type": "display_data"
    },
    {
     "name": "stdout",
     "output_type": "stream",
     "text": [
      "+---------------+--------------------+-----+\n",
      "|   Primary Type|         Description|count|\n",
      "+---------------+--------------------+-----+\n",
      "|        BATTERY|DOMESTIC BATTERY ...| 2681|\n",
      "|          THEFT|      $500 AND UNDER| 2336|\n",
      "|       BURGLARY|      FORCIBLE ENTRY| 2233|\n",
      "|          THEFT|           OVER $500| 1965|\n",
      "|CRIMINAL DAMAGE|         TO PROPERTY| 1927|\n",
      "+---------------+--------------------+-----+\n",
      "\n"
     ]
    },
    {
     "data": {
      "text/markdown": [
       "Day time:"
      ],
      "text/plain": [
       "<IPython.core.display.Markdown object>"
      ]
     },
     "metadata": {},
     "output_type": "display_data"
    },
    {
     "name": "stdout",
     "output_type": "stream",
     "text": [
      "+------------+--------------------+-----+\n",
      "|Primary Type|         Description|count|\n",
      "+------------+--------------------+-----+\n",
      "|     BATTERY|              SIMPLE| 4567|\n",
      "|     BATTERY|DOMESTIC BATTERY ...| 3940|\n",
      "|       THEFT|      $500 AND UNDER| 3289|\n",
      "|     ASSAULT|              SIMPLE| 2989|\n",
      "|       THEFT|       FROM BUILDING| 2805|\n",
      "+------------+--------------------+-----+\n",
      "\n"
     ]
    },
    {
     "data": {
      "text/markdown": [
       "Evening:"
      ],
      "text/plain": [
       "<IPython.core.display.Markdown object>"
      ]
     },
     "metadata": {},
     "output_type": "display_data"
    },
    {
     "name": "stdout",
     "output_type": "stream",
     "text": [
      "+---------------+--------------------+-----+\n",
      "|   Primary Type|         Description|count|\n",
      "+---------------+--------------------+-----+\n",
      "|        BATTERY|DOMESTIC BATTERY ...| 5198|\n",
      "|      NARCOTICS|POSS: CANNABIS 30...| 4545|\n",
      "|        BATTERY|              SIMPLE| 4104|\n",
      "|CRIMINAL DAMAGE|          TO VEHICLE| 4063|\n",
      "|          THEFT|      $500 AND UNDER| 3598|\n",
      "+---------------+--------------------+-----+\n",
      "\n"
     ]
    },
    {
     "data": {
      "text/markdown": [
       "Night:"
      ],
      "text/plain": [
       "<IPython.core.display.Markdown object>"
      ]
     },
     "metadata": {},
     "output_type": "display_data"
    },
    {
     "name": "stdout",
     "output_type": "stream",
     "text": [
      "+---------------+--------------------+-----+\n",
      "|   Primary Type|         Description|count|\n",
      "+---------------+--------------------+-----+\n",
      "|        BATTERY|DOMESTIC BATTERY ...| 3778|\n",
      "|CRIMINAL DAMAGE|          TO VEHICLE| 2460|\n",
      "|CRIMINAL DAMAGE|         TO PROPERTY| 2375|\n",
      "|        BATTERY|              SIMPLE| 2229|\n",
      "|          THEFT|      $500 AND UNDER| 1856|\n",
      "+---------------+--------------------+-----+\n",
      "\n"
     ]
    }
   ],
   "source": [
    "from pyspark.sql.functions import count, round\n",
    "# ratio of crimes primary description by time of day\n",
    "\n",
    "# Time of day categorized as follows:\n",
    "#   \"morning\"   - hour_am_pm= [6,11]\n",
    "#   \"day-time\"  - hour_am_pm= [12,18]\n",
    "#   \"evening\"   - hour_am_pm= [18,24] \n",
    "#   \"night\"     - hour_am_pm= [1,5]\n",
    "\n",
    "totalCrimes = chicagoDF.count()\n",
    "\n",
    "ChicagoDayCategoriesDF = chicagoDF\\\n",
    "   .withColumn(\"TimeDayCategory\", when((col(\"hour_am_pm\")>=6) & (col(\"hour_am_pm\") <12),\"1.morning\")\\\n",
    "                               .when((col(\"hour_am_pm\")>=12) & (col(\"hour_am_pm\")<18),\"2.day\")\\\n",
    "                               .when((col(\"hour_am_pm\")>=18) & (col(\"hour_am_pm\")<24),\"3.evening\")\\\n",
    "                               .otherwise(\"4.night\"))\n",
    "ChicagoDayCategoriesDF.cache()\n",
    "#ChicagoDayCategoriesDF.select(\"hour_am_pm\",\"TimeDayCategory\").show(8)\n",
    "\n",
    "from pyspark.sql.functions import count, round\n",
    "\n",
    "display(Markdown(\"Breakdown of the number of crimes committed by TimeDayCategory\"))\n",
    "ChicagoDayCategoriesDF.select(\"TimeDayCategory\")\\\n",
    "                      .groupBy(\"TimeDayCategory\")\\\n",
    "                      .agg(count(\"TimeDayCategory\").alias(\"Count\"),\\\n",
    "                            (count(\"TimeDayCategory\")/totalCrimes*100).alias(\"Ratio\"))\\\n",
    "                      .orderBy(col(\"Count\").desc())\\\n",
    "                      .select(\"TimeDayCategory\", \"Count\",round(\"Ratio\",2).alias(\"RoundedRatio\")).show()\n",
    "\n",
    "display(Markdown(\"Most crimes are committed in the evening.\"))\n",
    "\n",
    "display(Markdown(\"Types of crimes (Description) that occur at different moments of the day:\"))\n",
    "\n",
    "display(Markdown(\"Morning:\"))\n",
    "ChicagoDayCategoriesDF.where(\"(TimeDayCategory = '1.morning')\").select(\"Primary Type\", \"Description\",\"TimeDayCategory\")\\\n",
    "                    .groupBy(\"Primary Type\", \"Description\")\\\n",
    "                    .count().orderBy(col(\"count\").desc())\\\n",
    "                    .limit(5)\\\n",
    "                    .show()\n",
    "\n",
    "display(Markdown(\"Day time:\"))\n",
    "ChicagoDayCategoriesDF.where(\"(TimeDayCategory = '2.day')\").select(\"Primary Type\", \"Description\",\"TimeDayCategory\")\\\n",
    "                    .groupBy(\"Primary Type\", \"Description\")\\\n",
    "                    .count().orderBy(col(\"count\").desc())\\\n",
    "                    .limit(5)\\\n",
    "                    .show()\n",
    "\n",
    "display(Markdown(\"Evening:\"))\n",
    "ChicagoDayCategoriesDF.where(\"(TimeDayCategory = '3.evening')\").select(\"Primary Type\", \"Description\",\"TimeDayCategory\")\\\n",
    "                    .groupBy(\"Primary Type\", \"Description\")\\\n",
    "                    .count().orderBy(col(\"count\").desc())\\\n",
    "                    .limit(5)\\\n",
    "                    .show()\n",
    "\n",
    "display(Markdown(\"Night:\"))\n",
    "ChicagoDayCategoriesDF.where(\"(TimeDayCategory = '4.night')\").select(\"Primary Type\", \"Description\",\"TimeDayCategory\")\\\n",
    "                    .groupBy(\"Primary Type\", \"Description\")\\\n",
    "                    .count().orderBy(col(\"count\").desc())\\\n",
    "                    .limit(5)\\\n",
    "                    .show()"
   ]
  },
  {
   "cell_type": "markdown",
   "metadata": {},
   "source": [
    ">### C. Ratios of crimes types: week vs. weekend"
   ]
  },
  {
   "cell_type": "code",
   "execution_count": 19,
   "metadata": {
    "scrolled": false
   },
   "outputs": [
    {
     "data": {
      "text/markdown": [
       "Crimes committed during the week by ratio: top 5"
      ],
      "text/plain": [
       "<IPython.core.display.Markdown object>"
      ]
     },
     "metadata": {},
     "output_type": "display_data"
    },
    {
     "name": "stdout",
     "output_type": "stream",
     "text": [
      "+------------+---------------+-----+------------+\n",
      "|WeekCategory|   Primary Type|Count|RoundedRatio|\n",
      "+------------+---------------+-----+------------+\n",
      "|        Week|          THEFT|25951|       13.96|\n",
      "|        Week|        BATTERY|23229|       12.49|\n",
      "|        Week|      NARCOTICS|17478|         9.4|\n",
      "|        Week|CRIMINAL DAMAGE|15909|        8.56|\n",
      "|        Week|  OTHER OFFENSE| 8254|        4.44|\n",
      "+------------+---------------+-----+------------+\n",
      "\n"
     ]
    },
    {
     "data": {
      "text/markdown": [
       "Crimes committed during the weekend by ratio: top 5"
      ],
      "text/plain": [
       "<IPython.core.display.Markdown object>"
      ]
     },
     "metadata": {},
     "output_type": "display_data"
    },
    {
     "name": "stdout",
     "output_type": "stream",
     "text": [
      "+------------+---------------+-----+------------+\n",
      "|WeekCategory|   Primary Type|Count|RoundedRatio|\n",
      "+------------+---------------+-----+------------+\n",
      "|     Weekend|        BATTERY|10761|        5.79|\n",
      "|     Weekend|          THEFT| 9194|        4.94|\n",
      "|     Weekend|CRIMINAL DAMAGE| 7097|        3.82|\n",
      "|     Weekend|      NARCOTICS| 6195|        3.33|\n",
      "|     Weekend|  OTHER OFFENSE| 3209|        1.73|\n",
      "+------------+---------------+-----+------------+\n",
      "\n"
     ]
    },
    {
     "data": {
      "text/markdown": [
       "Roughly the same type of offense are committed throughout the week and weekend: we have the same top 5 but in different order."
      ],
      "text/plain": [
       "<IPython.core.display.Markdown object>"
      ]
     },
     "metadata": {},
     "output_type": "display_data"
    },
    {
     "data": {
      "text/markdown": [
       "For more detail on the crimes committed we can look at the pivot for Primary Type:"
      ],
      "text/plain": [
       "<IPython.core.display.Markdown object>"
      ]
     },
     "metadata": {},
     "output_type": "display_data"
    },
    {
     "name": "stdout",
     "output_type": "stream",
     "text": [
      "+--------------------+-----+-------+\n",
      "|        Primary Type| Week|Weekend|\n",
      "+--------------------+-----+-------+\n",
      "|OFFENSE INVOLVING...|  761|    367|\n",
      "|            STALKING|   61|     23|\n",
      "|PUBLIC PEACE VIOL...|  929|    335|\n",
      "|           OBSCENITY|    6|      1|\n",
      "|               ARSON|  217|    107|\n",
      "|            GAMBLING|  390|    159|\n",
      "|   CRIMINAL TRESPASS| 4556|   1561|\n",
      "|             ASSAULT| 8235|   2989|\n",
      "|LIQUOR LAW VIOLATION|  317|    155|\n",
      "| MOTOR VEHICLE THEFT| 6202|   2373|\n",
      "|               THEFT|25951|   9194|\n",
      "|             BATTERY|23229|  10761|\n",
      "|             ROBBERY| 4712|   1948|\n",
      "|           RITUALISM|    1|   null|\n",
      "|            HOMICIDE|  103|     44|\n",
      "|    PUBLIC INDECENCY|    1|      2|\n",
      "| CRIM SEXUAL ASSAULT|  348|    204|\n",
      "|        INTIMIDATION|   75|     19|\n",
      "|        PROSTITUTION| 2258|    566|\n",
      "|  DECEPTIVE PRACTICE| 4471|   1205|\n",
      "+--------------------+-----+-------+\n",
      "only showing top 20 rows\n",
      "\n"
     ]
    },
    {
     "data": {
      "text/markdown": [
       "Check that there are 2 categories:"
      ],
      "text/plain": [
       "<IPython.core.display.Markdown object>"
      ]
     },
     "metadata": {},
     "output_type": "display_data"
    },
    {
     "name": "stdout",
     "output_type": "stream",
     "text": [
      "+------------+\n",
      "|WeekCategory|\n",
      "+------------+\n",
      "|           2|\n",
      "+------------+\n",
      "\n"
     ]
    },
    {
     "data": {
      "text/markdown": [
       "Look at the distribution of crime types: week versus weekend, here the ratios are based not on total number of crimes, but total number of crimes by WeekCategory (week or weekend)"
      ],
      "text/plain": [
       "<IPython.core.display.Markdown object>"
      ]
     },
     "metadata": {},
     "output_type": "display_data"
    },
    {
     "data": {
      "text/markdown": [
       "Top 10 most common crime types and frequency: Week days"
      ],
      "text/plain": [
       "<IPython.core.display.Markdown object>"
      ]
     },
     "metadata": {},
     "output_type": "display_data"
    },
    {
     "data": {
      "text/markdown": [
       "The total number of crime occurrences during the week is 134330 crimes"
      ],
      "text/plain": [
       "<IPython.core.display.Markdown object>"
      ]
     },
     "metadata": {},
     "output_type": "display_data"
    },
    {
     "name": "stdout",
     "output_type": "stream",
     "text": [
      "+--------------------+---------------+------------+\n",
      "|        Primary Type|FreqPrimaryType|RoundedRatio|\n",
      "+--------------------+---------------+------------+\n",
      "|               THEFT|          25951|       19.32|\n",
      "|             BATTERY|          23229|       17.29|\n",
      "|           NARCOTICS|          17478|       13.01|\n",
      "|     CRIMINAL DAMAGE|          15909|       11.84|\n",
      "|       OTHER OFFENSE|           8254|        6.14|\n",
      "|             ASSAULT|           8235|        6.13|\n",
      "|            BURGLARY|           7884|        5.87|\n",
      "| MOTOR VEHICLE THEFT|           6202|        4.62|\n",
      "|             ROBBERY|           4712|        3.51|\n",
      "|   CRIMINAL TRESPASS|           4556|        3.39|\n",
      "|  DECEPTIVE PRACTICE|           4471|        3.33|\n",
      "|        PROSTITUTION|           2258|        1.68|\n",
      "|   WEAPONS VIOLATION|           1204|         0.9|\n",
      "|PUBLIC PEACE VIOL...|            929|        0.69|\n",
      "|OFFENSE INVOLVING...|            761|        0.57|\n",
      "+--------------------+---------------+------------+\n",
      "\n"
     ]
    },
    {
     "data": {
      "text/markdown": [
       "Top 10 most common crime types and frequency: Weekends"
      ],
      "text/plain": [
       "<IPython.core.display.Markdown object>"
      ]
     },
     "metadata": {},
     "output_type": "display_data"
    },
    {
     "data": {
      "text/markdown": [
       "The total number of crime occurrences during the weekend is 51629 crimes"
      ],
      "text/plain": [
       "<IPython.core.display.Markdown object>"
      ]
     },
     "metadata": {},
     "output_type": "display_data"
    },
    {
     "name": "stdout",
     "output_type": "stream",
     "text": [
      "+--------------------+---------------+------------+\n",
      "|        Primary Type|FreqPrimaryType|RoundedRatio|\n",
      "+--------------------+---------------+------------+\n",
      "|             BATTERY|          10761|       20.84|\n",
      "|               THEFT|           9194|       17.81|\n",
      "|     CRIMINAL DAMAGE|           7097|       13.75|\n",
      "|           NARCOTICS|           6195|        12.0|\n",
      "|       OTHER OFFENSE|           3209|        6.22|\n",
      "|             ASSAULT|           2989|        5.79|\n",
      "|            BURGLARY|           2423|        4.69|\n",
      "| MOTOR VEHICLE THEFT|           2373|         4.6|\n",
      "|             ROBBERY|           1948|        3.77|\n",
      "|   CRIMINAL TRESPASS|           1561|        3.02|\n",
      "|  DECEPTIVE PRACTICE|           1205|        2.33|\n",
      "|        PROSTITUTION|            566|         1.1|\n",
      "|   WEAPONS VIOLATION|            422|        0.82|\n",
      "|OFFENSE INVOLVING...|            367|        0.71|\n",
      "|PUBLIC PEACE VIOL...|            335|        0.65|\n",
      "+--------------------+---------------+------------+\n",
      "\n"
     ]
    }
   ],
   "source": [
    "from pyspark.sql.functions import count, round\n",
    "\n",
    "# Crime: week vs. weekend categorized as follows:\n",
    "#   \"Week\"    - DayOfWeek =[1,5] \n",
    "#   \"Weekend\" - DayOfWeek =[6,7] \n",
    "\n",
    "TotalCrime = chicagoDF.count()\n",
    "WeekDF = chicagoDF\\\n",
    "   .withColumn(\"WeekCategory\", when(col(\"DayOfWeek\")<6,\"Week\")\\\n",
    "                               .otherwise(\"Weekend\"))\n",
    "\n",
    "TotalCrimeWeek = WeekDF.where(col(\"WeekCategory\")==\"Week\").count()\n",
    "TotalCrimeWeekend = WeekDF.where(col(\"WeekCategory\")==\"Weekend\").count()\n",
    "\n",
    "display(Markdown(\"Crimes committed during the week by ratio: top 5\"))\n",
    "WeekDF.select(\"WeekCategory\", \"Primary Type\")\\\n",
    "                    .where(F.col(\"WeekCategory\") == 'Week')\\\n",
    "                      .groupBy(\"WeekCategory\",\"Primary Type\")\\\n",
    "                      .agg(count(\"WeekCategory\").alias(\"Count\"),\\\n",
    "                            (count(\"WeekCategory\")/totalCrimes*100).alias(\"Ratio\"))\\\n",
    "                      .orderBy(col(\"Count\").desc())\\\n",
    "                      .select(\"WeekCategory\",\"Primary Type\", \"Count\",round(\"Ratio\",2).alias(\"RoundedRatio\")).limit(5).show()\n",
    "\n",
    "display(Markdown(\"Crimes committed during the weekend by ratio: top 5\"))\n",
    "WeekDF.select(\"WeekCategory\", \"Primary Type\")\\\n",
    "                    .where(F.col(\"WeekCategory\") == 'Weekend')\\\n",
    "                      .groupBy(\"WeekCategory\",\"Primary Type\")\\\n",
    "                      .agg(count(\"WeekCategory\").alias(\"Count\"),\\\n",
    "                            (count(\"WeekCategory\")/totalCrimes*100).alias(\"Ratio\"))\\\n",
    "                      .orderBy(col(\"Count\").desc())\\\n",
    "                      .select(\"WeekCategory\",\"Primary Type\", \"Count\",round(\"Ratio\",2).alias(\"RoundedRatio\")).limit(5).show()\n",
    "\n",
    "display(Markdown(\"Roughly the same type of offense are committed throughout the week and weekend: we have the same top 5 but in different order.\"))\n",
    "\n",
    "display(Markdown(\"For more detail on the crimes committed we can look at the pivot for Primary Type:\"))\n",
    "pivot = WeekDF.groupBy(\"Primary Type\").pivot(\"WeekCategory\").agg(F.count(\"Primary Type\"))\n",
    "pivot.show()\n",
    "\n",
    "\n",
    "WeekDF.cache() # optimization to make the processing faster\n",
    "\n",
    "#check that there are two new categories\n",
    "display(Markdown(\"Check that there are 2 categories:\"))\n",
    "WeekDF.select([countDistinct(c).alias(c) for c in [\"WeekCategory\"]]).show()\n",
    "\n",
    "#distribution of crimes week vs. weekend (top 10 Primary Type)\n",
    "display(Markdown(\"Look at the distribution of crime types: week versus weekend, here the ratios are based \\\n",
    "not on total number of crimes, but total number of crimes by WeekCategory (week or weekend)\"))\n",
    "\n",
    "\n",
    "display(Markdown(\"Top 10 most common crime types and frequency: Week days\"))\n",
    "display(Markdown(f\"The total number of crime occurrences during the week is {TotalCrimeWeek} crimes\"))\n",
    "WeekDF.where(col(\"WeekCategory\")==\"Week\")\\\n",
    "                     .select(\"Primary Type\", \"WeekCategory\")\\\n",
    "                     .groupBy(\"Primary Type\")\\\n",
    "                     .agg(count(\"Primary Type\").alias(\"FreqPrimaryType\"), \\\n",
    "                          (count(\"Primary Type\")/TotalCrimeWeek*100).alias(\"Ratio\"))\\\n",
    "                     .orderBy(col(\"Ratio\").desc())\\\n",
    "                     .select(\"Primary Type\",\"FreqPrimaryType\",round(\"Ratio\",2).alias(\"RoundedRatio\")).limit(15).show()\n",
    "\n",
    "display(Markdown(\"Top 10 most common crime types and frequency: Weekends\"))\n",
    "display(Markdown(f\"The total number of crime occurrences during the weekend is {TotalCrimeWeekend} crimes\"))\n",
    "\n",
    "WeekDF.where(col(\"WeekCategory\")==\"Weekend\")\\\n",
    "                     .select(\"Primary Type\", \"WeekCategory\")\\\n",
    "                     .groupBy(\"Primary Type\")\\\n",
    "                     .agg(count(\"Primary Type\").alias(\"FreqPrimaryType\"), \\\n",
    "                          (count(\"Primary Type\")/TotalCrimeWeekend*100).alias(\"Ratio\"))\\\n",
    "                     .orderBy(col(\"Ratio\").desc())\\\n",
    "                     .select(\"Primary Type\",\"FreqPrimaryType\",round(\"Ratio\",2).alias(\"RoundedRatio\")).limit(15).show()\n"
   ]
  },
  {
   "cell_type": "code",
   "execution_count": 20,
   "metadata": {
    "scrolled": false
   },
   "outputs": [
    {
     "data": {
      "text/markdown": [
       ">### D. Safety in the districts"
      ],
      "text/plain": [
       "<IPython.core.display.Markdown object>"
      ]
     },
     "metadata": {},
     "output_type": "display_data"
    },
    {
     "data": {
      "text/markdown": [
       "The pivot table below shows number of crime by day of the week for each district:"
      ],
      "text/plain": [
       "<IPython.core.display.Markdown object>"
      ]
     },
     "metadata": {},
     "output_type": "display_data"
    },
    {
     "name": "stdout",
     "output_type": "stream",
     "text": [
      "+--------+----+----+----+----+----+----+----+\n",
      "|District|   1|   2|   3|   4|   5|   6|   7|\n",
      "+--------+----+----+----+----+----+----+----+\n",
      "|      31|   1|null|null|null|null|   1|null|\n",
      "|      12|1277|1267|1254|1379|1466|1224|1213|\n",
      "|      22| 868| 862| 978| 924| 973| 853| 844|\n",
      "|       1| 922|1053|1087|1037|1120| 950| 734|\n",
      "|      16| 838| 764| 878| 849| 893| 842| 917|\n",
      "|       6|1479|1555|1599|1528|1551|1491|1441|\n",
      "|       3|1362|1481|1390|1440|1454|1412|1325|\n",
      "|      20| 456| 482| 503| 493| 498| 487| 448|\n",
      "|       5|1212|1255|1215|1229|1269|1140|1068|\n",
      "|      19|1086|1056|1048|1110|1195|1229|1108|\n",
      "|      15|1100|1242|1256|1213|1278|1281|1181|\n",
      "|      17| 779| 771| 762| 747| 845| 723| 715|\n",
      "|       9|1366|1356|1295|1377|1410|1389|1363|\n",
      "|       4|1494|1596|1608|1618|1676|1486|1412|\n",
      "|       8|1864|1864|1904|1931|2009|1880|1887|\n",
      "|       7|1610|1639|1656|1716|1697|1674|1538|\n",
      "|      10|1052|1105|1092|1074|1148|1122|1061|\n",
      "|      25|1548|1417|1447|1443|1534|1526|1393|\n",
      "|      24| 840| 863| 797| 802| 869| 795| 760|\n",
      "|      11|1517|1831|1773|1758|1705|1602|1456|\n",
      "|      14| 960|1023| 962| 943|1064|1080| 970|\n",
      "|       2|1220|1245|1233|1204|1289|1151|1082|\n",
      "|      18| 938|1034| 984|1054|1247|1285|1090|\n",
      "+--------+----+----+----+----+----+----+----+\n",
      "\n"
     ]
    },
    {
     "data": {
      "text/markdown": [
       "The table below shows ratio by Escalate_category:"
      ],
      "text/plain": [
       "<IPython.core.display.Markdown object>"
      ]
     },
     "metadata": {},
     "output_type": "display_data"
    },
    {
     "name": "stdout",
     "output_type": "stream",
     "text": [
      "+--------------------+---------------+\n",
      "|   Escalate_category|round(Ratio, 2)|\n",
      "+--------------------+---------------+\n",
      "| 4. General Violence|          60.15|\n",
      "|   2. General Arrest|          28.36|\n",
      "|3. Domestic Violence|           9.03|\n",
      "|  1. Domestic Arrest|           2.46|\n",
      "+--------------------+---------------+\n",
      "\n"
     ]
    },
    {
     "data": {
      "text/markdown": [
       "The majority of crimes are related to general offenses that do not result in an arrest."
      ],
      "text/plain": [
       "<IPython.core.display.Markdown object>"
      ]
     },
     "metadata": {},
     "output_type": "display_data"
    },
    {
     "data": {
      "text/markdown": [
       "The table below is a break down by district and escalate type:"
      ],
      "text/plain": [
       "<IPython.core.display.Markdown object>"
      ]
     },
     "metadata": {},
     "output_type": "display_data"
    },
    {
     "name": "stdout",
     "output_type": "stream",
     "text": [
      "+-------------------+--------+---------------+\n",
      "|  Escalate_category|District|round(Ratio, 2)|\n",
      "+-------------------+--------+---------------+\n",
      "|4. General Violence|       8|            4.5|\n",
      "|4. General Violence|       4|           3.97|\n",
      "|4. General Violence|       7|           3.39|\n",
      "|4. General Violence|       6|           3.38|\n",
      "|4. General Violence|      12|           3.22|\n",
      "|4. General Violence|      25|           3.21|\n",
      "|4. General Violence|       9|           3.02|\n",
      "|4. General Violence|       3|           2.89|\n",
      "|4. General Violence|      19|           2.88|\n",
      "|4. General Violence|       2|           2.77|\n",
      "|4. General Violence|      18|           2.76|\n",
      "|4. General Violence|       5|           2.76|\n",
      "|4. General Violence|      11|           2.75|\n",
      "|  2. General Arrest|      11|           2.75|\n",
      "|4. General Violence|      14|           2.53|\n",
      "|4. General Violence|      16|           2.31|\n",
      "|4. General Violence|      10|           2.27|\n",
      "|4. General Violence|       1|           2.23|\n",
      "|4. General Violence|      22|           2.18|\n",
      "|  2. General Arrest|      15|           2.03|\n",
      "+-------------------+--------+---------------+\n",
      "only showing top 20 rows\n",
      "\n",
      "+--------+------------------+-----------------+--------------------+-------------------+\n",
      "|District|1. Domestic Arrest|2. General Arrest|3. Domestic Violence|4. General Violence|\n",
      "+--------+------------------+-----------------+--------------------+-------------------+\n",
      "|      31|              null|                1|                null|                  1|\n",
      "|      12|               180|             2377|                 529|               5994|\n",
      "|      22|               173|             1239|                 845|               4045|\n",
      "|       1|                41|             2490|                 228|               4144|\n",
      "|      16|               168|             1011|                 506|               4296|\n",
      "|       6|               327|             2710|                1316|               6291|\n",
      "|       3|               424|             2707|                1357|               5376|\n",
      "|      20|                31|              930|                 122|               2284|\n",
      "|       5|               231|             2052|                 977|               5128|\n",
      "|      19|               104|             2053|                 313|               5362|\n",
      "|      15|               206|             3777|                 804|               3764|\n",
      "|       9|               210|             2904|                 822|               5620|\n",
      "|      17|               196|             1248|                 427|               3471|\n",
      "|       4|               115|             2581|                 820|               7374|\n",
      "|       8|               430|             3111|                1428|               8370|\n",
      "|       7|               404|             3093|                1734|               6299|\n",
      "|      10|               197|             2665|                 572|               4220|\n",
      "|      25|               376|             2900|                1065|               5967|\n",
      "|      24|                85|             1590|                 306|               3745|\n",
      "|      11|               260|             5110|                1150|               5122|\n",
      "+--------+------------------+-----------------+--------------------+-------------------+\n",
      "only showing top 20 rows\n",
      "\n"
     ]
    }
   ],
   "source": [
    "display(Markdown(\">### D. Safety in the districts\"))\n",
    "\n",
    "pivotDistrict = chicagoDF.groupBy(\"District\").pivot(\"DayOfWeek\").agg(F.count(\"Primary Type\").alias(\"Count\"))\n",
    "\n",
    "display(Markdown(\"The pivot table below shows number of crime by day of the week for each district:\"))\n",
    "\n",
    "pivotDistrict.limit(25).show(25)\n",
    "\n",
    "TotalCrimes = chicagoDF.count()\n",
    "District_arrestDF = chicagoDF\\\n",
    "    .withColumn(\"Escalate_category\", when((col(\"Arrest\")== True) & (col(\"Domestic\") == True), \"1. Domestic Arrest\")\\\n",
    "                            .when((col(\"Arrest\") == True) & (col(\"Domestic\") == False), \"2. General Arrest\")\\\n",
    "                            .when((col(\"Arrest\") == False) & (col(\"Domestic\") == True), \"3. Domestic Violence\")\\\n",
    "                            .when((col(\"Arrest\") == False) & (col(\"Domestic\") == False), \"4. General Violence\"))\n",
    "                \n",
    "District_arrestDF.cache()\n",
    "\n",
    "display(Markdown(\"The table below shows ratio by Escalate_category:\"))\n",
    "\n",
    "totalCrimes = chicagoDF.count()\n",
    "District_arrestDF.select(\"Escalate_category\")\\\n",
    "                      .groupBy(\"Escalate_category\")\\\n",
    "                      .agg(count(\"Escalate_category\").alias(\"Count\"),\\\n",
    "                            (count(\"Escalate_category\")/totalCrimes*100).alias(\"Ratio\"))\\\n",
    "                      .orderBy(col(\"Count\").desc())\\\n",
    "                      .select(\"Escalate_category\", round(\"Ratio\",2)).show()\n",
    "\n",
    "display(Markdown(\"The majority of crimes are related to general offenses that do not result in an arrest.\"))\n",
    "\n",
    "display(Markdown(\"The table below is a break down by district and escalate type:\"))\n",
    "\n",
    "District_arrestDF.select(\"Escalate_category\",\"District\")\\\n",
    "                      .groupBy(\"Escalate_category\",\"District\")\\\n",
    "                      .agg(count(\"Escalate_category\").alias(\"Count\"),\\\n",
    "                            (count(\"Escalate_category\")/totalCrimes*100).alias(\"Ratio\"))\\\n",
    "                      .orderBy(col(\"Count\").desc())\\\n",
    "                      .select(\"Escalate_category\",\"District\", round(\"Ratio\",2)).show()\n",
    "\n",
    "pivot_district_by_escalate = District_arrestDF.groupBy(\"District\").pivot(\"Escalate_category\").agg(F.count(\"District\"))\n",
    "\n",
    "pivot_district_by_escalate.show()\n",
    "\n"
   ]
  }
 ],
 "metadata": {
  "kernelspec": {
   "display_name": "Python 3",
   "language": "python",
   "name": "python3"
  },
  "language_info": {
   "codemirror_mode": {
    "name": "ipython",
    "version": 3
   },
   "file_extension": ".py",
   "mimetype": "text/x-python",
   "name": "python",
   "nbconvert_exporter": "python",
   "pygments_lexer": "ipython3",
   "version": "3.7.3"
  }
 },
 "nbformat": 4,
 "nbformat_minor": 2
}
